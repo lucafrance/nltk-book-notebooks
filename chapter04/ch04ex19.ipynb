{
 "cells": [
  {
   "cell_type": "markdown",
   "id": "7bdbc987-3f92-4efb-a049-8a4a358000a3",
   "metadata": {},
   "source": [
    "Write a list comprehension that sorts a list of WordNet synsets for proximity to a given synset. For example, given the synsets `minke_whale.n.01`, `orca.n.01`, `novel.n.01`, and `tortoise.n.01`, sort them according to their [`shortest_path_distance()`](https://www.nltk.org/api/nltk.corpus.reader.wordnet.html?highlight=shortest_path_distance#nltk.corpus.reader.wordnet.Synset.shortest_path_distance) from `right_whale.n.01`."
   ]
  },
  {
   "cell_type": "code",
   "execution_count": 1,
   "id": "ebd0b6e8-2e25-46b2-996c-604680f4d8f6",
   "metadata": {},
   "outputs": [],
   "source": [
    "from nltk.corpus import wordnet as wn"
   ]
  },
  {
   "cell_type": "code",
   "execution_count": 2,
   "id": "9d8d398c-edbc-4256-8be8-aa00e6904c4d",
   "metadata": {},
   "outputs": [],
   "source": [
    "synsets = [wn.synset(\"minke_whale.n.01\"), wn.synset(\"orca.n.01\"), wn.synset(\"novel.n.01\"), wn.synset(\"tortoise.n.01\")]\n",
    "main_synset = wn.synset(\"right_whale.n.01\")"
   ]
  },
  {
   "cell_type": "code",
   "execution_count": 3,
   "id": "dfc287cb-dd5a-48fb-92b9-fd21f18c8b5f",
   "metadata": {},
   "outputs": [
    {
     "data": {
      "text/plain": [
       "[Synset('lesser_rorqual.n.01'),\n",
       " Synset('killer_whale.n.01'),\n",
       " Synset('tortoise.n.01'),\n",
       " Synset('novel.n.01')]"
      ]
     },
     "execution_count": 3,
     "metadata": {},
     "output_type": "execute_result"
    }
   ],
   "source": [
    "# I am not sure what the exercise asks for a list comprehension. This solution feels cleaner.\n",
    "synsets.sort(key=main_synset.shortest_path_distance)\n",
    "synsets"
   ]
  },
  {
   "cell_type": "code",
   "execution_count": 4,
   "id": "277ea151-72bd-447c-af04-e87a148f76b1",
   "metadata": {},
   "outputs": [
    {
     "data": {
      "text/plain": [
       "[(Synset('lesser_rorqual.n.01'), 3),\n",
       " (Synset('killer_whale.n.01'), 5),\n",
       " (Synset('tortoise.n.01'), 12),\n",
       " (Synset('novel.n.01'), 22)]"
      ]
     },
     "execution_count": 4,
     "metadata": {},
     "output_type": "execute_result"
    }
   ],
   "source": [
    "# Check that the order is correct\n",
    "[(s, main_synset.shortest_path_distance(s)) for s in synsets]"
   ]
  },
  {
   "cell_type": "code",
   "execution_count": null,
   "id": "0dd24e04-8701-45e4-9378-945df470fdee",
   "metadata": {},
   "outputs": [],
   "source": []
  }
 ],
 "metadata": {
  "kernelspec": {
   "display_name": "Python 3 (ipykernel)",
   "language": "python",
   "name": "python3"
  },
  "language_info": {
   "codemirror_mode": {
    "name": "ipython",
    "version": 3
   },
   "file_extension": ".py",
   "mimetype": "text/x-python",
   "name": "python",
   "nbconvert_exporter": "python",
   "pygments_lexer": "ipython3",
   "version": "3.11.1"
  }
 },
 "nbformat": 4,
 "nbformat_minor": 5
}
