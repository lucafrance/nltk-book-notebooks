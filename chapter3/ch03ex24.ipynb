{
 "cells": [
  {
   "cell_type": "code",
   "execution_count": 1,
   "id": "3e384ff8-2656-4f77-b9f8-849524cff3ea",
   "metadata": {},
   "outputs": [],
   "source": [
    "import re"
   ]
  },
  {
   "cell_type": "code",
   "execution_count": 2,
   "id": "8a3a2336-3a3a-45a2-8d6d-455af20f37a2",
   "metadata": {},
   "outputs": [],
   "source": [
    "def hacker_code(txt):\n",
    "    substitutions = [\n",
    "        (\"e\", \"3\"),\n",
    "        (\"i\", \"1\"),\n",
    "        (\"o\", \"0\"),\n",
    "        (\"l\", \"|\"),\n",
    "        (\"ate\", \"8\"),\n",
    "        (r\"^s\", \"$\"),\n",
    "        (r\"(?<![^\\w])s\", \"5\"),\n",
    "    ]\n",
    "    for s in substitutions:\n",
    "        txt = txt.lower()\n",
    "        txt = re.sub(s[0], s[1], txt)\n",
    "    return txt"
   ]
  },
  {
   "cell_type": "code",
   "execution_count": 3,
   "id": "6613ae48-da26-4e4a-9267-cc835949e07d",
   "metadata": {},
   "outputs": [
    {
     "name": "stdout",
     "output_type": "stream",
     "text": [
      "Hacker → hack3r\n",
      "Leet → |33t\n",
      "Staff → $taff\n",
      "mass → ma55\n"
     ]
    }
   ],
   "source": [
    "texts = [\"Hacker\", \"Leet\", \"Staff\", \"mass\"]\n",
    "for txt in texts:\n",
    "    print (txt, \"→\", hacker_code(txt))"
   ]
  },
  {
   "cell_type": "code",
   "execution_count": null,
   "id": "ef8578ca-d902-4c30-b10b-e86d8ed20566",
   "metadata": {},
   "outputs": [],
   "source": []
  }
 ],
 "metadata": {
  "kernelspec": {
   "display_name": "Python 3 (ipykernel)",
   "language": "python",
   "name": "python3"
  },
  "language_info": {
   "codemirror_mode": {
    "name": "ipython",
    "version": 3
   },
   "file_extension": ".py",
   "mimetype": "text/x-python",
   "name": "python",
   "nbconvert_exporter": "python",
   "pygments_lexer": "ipython3",
   "version": "3.11.1"
  }
 },
 "nbformat": 4,
 "nbformat_minor": 5
}
