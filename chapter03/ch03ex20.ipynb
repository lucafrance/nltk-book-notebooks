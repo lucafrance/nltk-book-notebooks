{
 "cells": [
  {
   "cell_type": "code",
   "execution_count": 1,
   "id": "c5e56566-e153-4cde-811c-c4964f366141",
   "metadata": {},
   "outputs": [],
   "source": [
    "from urllib import request\n",
    "import re\n",
    "\n",
    "from bs4 import BeautifulSoup\n",
    "import nltk"
   ]
  },
  {
   "cell_type": "code",
   "execution_count": 2,
   "id": "e9639a2d-3351-4e4d-a840-81c4eb39efd2",
   "metadata": {},
   "outputs": [],
   "source": [
    "# Fromm exerxicse 8 of chapter 3\n",
    "def page_text(url):\n",
    "    html = request.urlopen(url).read().decode(\"utf8\")\n",
    "    return BeautifulSoup(html).get_text()"
   ]
  },
  {
   "cell_type": "code",
   "execution_count": 3,
   "id": "2bb69179-9e50-40a1-982d-ba090419fdd8",
   "metadata": {},
   "outputs": [
    {
     "data": {
      "text/plain": [
       "'Today in Munich there will be 0 hours of sun.'"
      ]
     },
     "execution_count": 3,
     "metadata": {},
     "output_type": "execute_result"
    }
   ],
   "source": [
    "html = page_text(\"https://www.wetterdienst.de/Deutschlandwetter/Muenchen/\")\n",
    "match = re.search(r\"\\d+ Sonnenstunde\\(n\\)\", html)\n",
    "sun_hours = match[0].split()[0]\n",
    "f\"Today in Munich there will be {sun_hours} hours of sun.\""
   ]
  },
  {
   "cell_type": "code",
   "execution_count": null,
   "id": "c3f13634-2f63-49fd-ab2e-2b6ee5c3cca7",
   "metadata": {},
   "outputs": [],
   "source": []
  }
 ],
 "metadata": {
  "kernelspec": {
   "display_name": "Python 3 (ipykernel)",
   "language": "python",
   "name": "python3"
  },
  "language_info": {
   "codemirror_mode": {
    "name": "ipython",
    "version": 3
   },
   "file_extension": ".py",
   "mimetype": "text/x-python",
   "name": "python",
   "nbconvert_exporter": "python",
   "pygments_lexer": "ipython3",
   "version": "3.11.1"
  }
 },
 "nbformat": 4,
 "nbformat_minor": 5
}
