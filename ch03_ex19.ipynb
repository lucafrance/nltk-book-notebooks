{
 "cells": [
  {
   "cell_type": "code",
   "execution_count": 1,
   "id": "23c12af4-185c-461b-bd9a-47e60ccadaca",
   "metadata": {},
   "outputs": [],
   "source": [
    "import random\n",
    "\n",
    "import nltk\n",
    "from nltk.corpus import brown"
   ]
  },
  {
   "cell_type": "code",
   "execution_count": 2,
   "id": "36a355b5-83a9-48a1-a98e-5f5a07f4685a",
   "metadata": {},
   "outputs": [],
   "source": [
    "source_txt = list(brown.words(categories=\"science_fiction\"))"
   ]
  },
  {
   "cell_type": "markdown",
   "id": "1c2a4d20-9a0e-47cc-97e7-63c2b2440ab1",
   "metadata": {},
   "source": [
    "Create the file."
   ]
  },
  {
   "cell_type": "code",
   "execution_count": 3,
   "id": "9c053ac7-c6a3-4c55-b7dc-308ef08fb16e",
   "metadata": {},
   "outputs": [],
   "source": [
    "# Empty the file if already existing\n",
    "f = open(\"ch03_ex19.txt\", \"wt\")\n",
    "f.close()\n",
    "\n",
    "random.seed(0)\n",
    "words = random.sample(list(set(source_txt)), k=100)\n",
    "frequencies = [random.randrange(1, 100) for _ in range(100)]\n",
    "lines = [f\"{w} {f}\\n\" for w, f in zip(words, frequencies)]\n",
    "\n",
    "with open(\"ch03_ex19.txt\", \"at\") as f:\n",
    "    for line in lines:\n",
    "        f.write(line)   "
   ]
  },
  {
   "cell_type": "markdown",
   "id": "16084742-1f0b-4c6f-8174-6702f46b6300",
   "metadata": {},
   "source": [
    "Read the file."
   ]
  },
  {
   "cell_type": "code",
   "execution_count": 4,
   "id": "09e09d38-1755-47cd-a9b8-8ea31c4bd539",
   "metadata": {},
   "outputs": [
    {
     "data": {
      "text/plain": [
       "[['shouted', 25],\n",
       " ['fixed', 24],\n",
       " ['rotated', 5],\n",
       " [\"Jack's\", 79],\n",
       " ['times', 85],\n",
       " ['indeed', 34],\n",
       " ['removed', 61],\n",
       " ['attractive', 9],\n",
       " ['dear', 12],\n",
       " ['agitation', 87],\n",
       " ['answer', 97],\n",
       " ['stood', 17],\n",
       " ['sat', 20],\n",
       " ['towards', 5],\n",
       " ['disappearance', 11],\n",
       " ['Christian', 90],\n",
       " ['activated', 70],\n",
       " ['no', 88],\n",
       " ['babbled', 51],\n",
       " ['answered', 91],\n",
       " ['ceremony', 68],\n",
       " ['wear', 36],\n",
       " ['rubbed', 67],\n",
       " ['chain', 31],\n",
       " ['led', 28],\n",
       " ['Sea', 87],\n",
       " ['Sahara', 76],\n",
       " ['anticipate', 54],\n",
       " ['ministrations', 75],\n",
       " ['Old', 36],\n",
       " ['where', 58],\n",
       " ['company', 64],\n",
       " ['equated', 85],\n",
       " ['Earth', 83],\n",
       " ['ahead', 90],\n",
       " ['argued', 46],\n",
       " ['build', 11],\n",
       " [\"doesn't\", 42],\n",
       " ['before', 79],\n",
       " ['Almost', 15],\n",
       " ['ship', 63],\n",
       " ['foremost', 76],\n",
       " ['Monitor', 81],\n",
       " ['exceedingly', 43],\n",
       " ['veldt', 25],\n",
       " ['applied', 32],\n",
       " ['America', 3],\n",
       " ['judge', 94],\n",
       " ['Where', 35],\n",
       " ['sooner', 15],\n",
       " ['beasts', 91],\n",
       " ['game', 29],\n",
       " ['merely', 48],\n",
       " ['limitations', 22],\n",
       " ['mezzo', 43],\n",
       " ['wants', 55],\n",
       " ['Palermo', 8],\n",
       " ['included', 13],\n",
       " ['crazy', 19],\n",
       " ['spy', 90],\n",
       " ['conjunctions', 29],\n",
       " ['added', 6],\n",
       " ['fool', 74],\n",
       " ['plan', 82],\n",
       " ['exposed', 69],\n",
       " ['nudged', 78],\n",
       " ['entertain', 88],\n",
       " ['snickered', 10],\n",
       " ['nude', 4],\n",
       " ['story', 16],\n",
       " ['child', 82],\n",
       " ['South', 25],\n",
       " ['beings', 78],\n",
       " ['despite', 74],\n",
       " ['light-year', 16],\n",
       " ['resettling', 51],\n",
       " ['pacing', 12],\n",
       " ['we', 48],\n",
       " ['oxygen', 15],\n",
       " ['Suspicion', 5],\n",
       " ['nor', 78],\n",
       " ['color', 3],\n",
       " ['western', 25],\n",
       " ['promptly', 24],\n",
       " ['anything', 92],\n",
       " ['send', 16],\n",
       " ['Actually', 62],\n",
       " ['partner', 27],\n",
       " ['impossible', 94],\n",
       " ['suffice', 8],\n",
       " ['kept', 87],\n",
       " ['restful', 3],\n",
       " ['open', 70],\n",
       " ['seemed', 55],\n",
       " ['cosmic', 80],\n",
       " ['official', 13],\n",
       " ['informed', 34],\n",
       " ['Heavenly', 9],\n",
       " ['scooted', 29],\n",
       " ['Brain', 10]]"
      ]
     },
     "execution_count": 4,
     "metadata": {},
     "output_type": "execute_result"
    }
   ],
   "source": [
    "lines = open(\"ch03_ex19.txt\", \"rt\").readlines()\n",
    "lines = [line.strip() for line in lines.copy()]\n",
    "lines = [line.split() for line in lines.copy()]\n",
    "lines = [[w, int(n)] for w, n in lines.copy()]\n",
    "lines"
   ]
  },
  {
   "cell_type": "code",
   "execution_count": null,
   "id": "5519e0d4-4a84-4aad-8177-1511cc8a7466",
   "metadata": {},
   "outputs": [],
   "source": []
  }
 ],
 "metadata": {
  "kernelspec": {
   "display_name": "Python 3 (ipykernel)",
   "language": "python",
   "name": "python3"
  },
  "language_info": {
   "codemirror_mode": {
    "name": "ipython",
    "version": 3
   },
   "file_extension": ".py",
   "mimetype": "text/x-python",
   "name": "python",
   "nbconvert_exporter": "python",
   "pygments_lexer": "ipython3",
   "version": "3.11.1"
  }
 },
 "nbformat": 4,
 "nbformat_minor": 5
}
