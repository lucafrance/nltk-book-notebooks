{
 "cells": [
  {
   "cell_type": "markdown",
   "id": "7398401b-3e66-4544-b307-746d9a506d00",
   "metadata": {},
   "source": [
    "Does the method for creating a sliding window of n-grams behave correctly for the two limiting cases: `n = 1`, and `n = len(sent)`?"
   ]
  },
  {
   "cell_type": "code",
   "execution_count": 1,
   "id": "434ebb54-086b-4657-9910-d5ee39394f56",
   "metadata": {},
   "outputs": [],
   "source": [
    "def n_grams(words, n):\n",
    "    return [words[i:i+n] for i in range(len(words)-n+1)]"
   ]
  },
  {
   "cell_type": "code",
   "execution_count": 2,
   "id": "6b15d5da-ca86-441a-8ce6-3c0be57809db",
   "metadata": {},
   "outputs": [
    {
     "data": {
      "text/plain": [
       "[['The', 'dog', 'gave'],\n",
       " ['dog', 'gave', 'John'],\n",
       " ['gave', 'John', 'the'],\n",
       " ['John', 'the', 'newspaper']]"
      ]
     },
     "execution_count": 2,
     "metadata": {},
     "output_type": "execute_result"
    }
   ],
   "source": [
    "sent = ['The', 'dog', 'gave', 'John', 'the', 'newspaper']\n",
    "n_grams(sent, 3)"
   ]
  },
  {
   "cell_type": "code",
   "execution_count": 3,
   "id": "776c271c-82d5-43dc-9b0d-fc656643eddc",
   "metadata": {},
   "outputs": [
    {
     "data": {
      "text/plain": [
       "[['The'], ['dog'], ['gave'], ['John'], ['the'], ['newspaper']]"
      ]
     },
     "execution_count": 3,
     "metadata": {},
     "output_type": "execute_result"
    }
   ],
   "source": [
    "n_grams(sent, 1)"
   ]
  },
  {
   "cell_type": "code",
   "execution_count": 4,
   "id": "db270c8a-204b-4534-8ee8-fa851ce6db8b",
   "metadata": {},
   "outputs": [
    {
     "data": {
      "text/plain": [
       "[['The', 'dog', 'gave', 'John', 'the', 'newspaper']]"
      ]
     },
     "execution_count": 4,
     "metadata": {},
     "output_type": "execute_result"
    }
   ],
   "source": [
    "n_grams(sent, len(sent))"
   ]
  },
  {
   "cell_type": "markdown",
   "id": "31a711a4-8c0e-4655-b6b6-16e54c6fac0e",
   "metadata": {},
   "source": [
    "The method works as expected. For `n = 1` it creates 1-grams, i.e. list with a single element. For `n = len(sent)` it creates a single `len(sent)`-gram with the entire `sent`."
   ]
  }
 ],
 "metadata": {
  "kernelspec": {
   "display_name": "Python 3 (ipykernel)",
   "language": "python",
   "name": "python3"
  },
  "language_info": {
   "codemirror_mode": {
    "name": "ipython",
    "version": 3
   },
   "file_extension": ".py",
   "mimetype": "text/x-python",
   "name": "python",
   "nbconvert_exporter": "python",
   "pygments_lexer": "ipython3",
   "version": "3.11.1"
  }
 },
 "nbformat": 4,
 "nbformat_minor": 5
}
