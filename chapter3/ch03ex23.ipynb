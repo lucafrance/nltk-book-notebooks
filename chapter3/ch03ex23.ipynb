{
 "cells": [
  {
   "cell_type": "code",
   "execution_count": 1,
   "id": "c99aae93-1918-4452-aab5-4d71e1495a96",
   "metadata": {},
   "outputs": [],
   "source": [
    "import re"
   ]
  },
  {
   "cell_type": "code",
   "execution_count": 2,
   "id": "6a89d9d9-59b3-4ddc-a912-257a9754419e",
   "metadata": {},
   "outputs": [],
   "source": [
    "text = \"Baby don't cry. Baby don't hurt me. Don't cry for me Argentina.\""
   ]
  },
  {
   "cell_type": "code",
   "execution_count": 3,
   "id": "8e7c03fd-d88c-4c7f-8975-ff3f410a472d",
   "metadata": {},
   "outputs": [
    {
     "data": {
      "text/plain": [
       "['Baby',\n",
       " 'don',\n",
       " 't',\n",
       " 'cry',\n",
       " 'Baby',\n",
       " 'don',\n",
       " 't',\n",
       " 'hurt',\n",
       " 'me',\n",
       " 'Don',\n",
       " 't',\n",
       " 'cry',\n",
       " 'for',\n",
       " 'me',\n",
       " 'Argentina']"
      ]
     },
     "execution_count": 3,
     "metadata": {},
     "output_type": "execute_result"
    }
   ],
   "source": [
    "re.findall(\"n't|\\w+\", text)"
   ]
  },
  {
   "cell_type": "code",
   "execution_count": 4,
   "id": "76fa5460-267f-4541-a36e-5c265bd70db6",
   "metadata": {},
   "outputs": [
    {
     "data": {
      "text/plain": [
       "[\"n't\", \"n't\", \"n't\"]"
      ]
     },
     "execution_count": 4,
     "metadata": {},
     "output_type": "execute_result"
    }
   ],
   "source": [
    "pattern = r\"n't\"\n",
    "re.findall(pattern, text)"
   ]
  },
  {
   "cell_type": "markdown",
   "id": "72b6ea22-31b2-4331-a021-b43966df28ae",
   "metadata": {},
   "source": [
    "Regular expressions by defualt are greedy, therefore *don* is prioritized for `\\w+` of over `n't` in *don't*.\n",
    "The negative lookahead assertion `(?![']t)` prevents expressions followed by `'t` from bing considered, which excludes *don*."
   ]
  },
  {
   "cell_type": "code",
   "execution_count": 5,
   "id": "5dd689d7-b0ac-48e5-b8d1-e4e0d6a9b8e4",
   "metadata": {},
   "outputs": [
    {
     "data": {
      "text/plain": [
       "['Baby',\n",
       " 'do',\n",
       " \"n't\",\n",
       " 'cry',\n",
       " 'Baby',\n",
       " 'do',\n",
       " \"n't\",\n",
       " 'hurt',\n",
       " 'me',\n",
       " 'Do',\n",
       " \"n't\",\n",
       " 'cry',\n",
       " 'for',\n",
       " 'me',\n",
       " 'Argentina']"
      ]
     },
     "execution_count": 5,
     "metadata": {},
     "output_type": "execute_result"
    }
   ],
   "source": [
    "pattern = r\"n't|\\w+(?![']t)\"\n",
    "re.findall(pattern, text)"
   ]
  },
  {
   "cell_type": "code",
   "execution_count": null,
   "id": "9f1be784-067d-4d6e-839c-5f20c372a252",
   "metadata": {},
   "outputs": [],
   "source": []
  }
 ],
 "metadata": {
  "kernelspec": {
   "display_name": "Python 3 (ipykernel)",
   "language": "python",
   "name": "python3"
  },
  "language_info": {
   "codemirror_mode": {
    "name": "ipython",
    "version": 3
   },
   "file_extension": ".py",
   "mimetype": "text/x-python",
   "name": "python",
   "nbconvert_exporter": "python",
   "pygments_lexer": "ipython3",
   "version": "3.11.1"
  }
 },
 "nbformat": 4,
 "nbformat_minor": 5
}
