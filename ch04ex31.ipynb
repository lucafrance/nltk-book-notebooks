{
 "cells": [
  {
   "cell_type": "markdown",
   "id": "2e9922fe-455d-4239-af48-e6a93e6379c4",
   "metadata": {},
   "source": [
    "Define the variable `saying` to contain the list `['After', 'all', 'is', 'said', 'and', 'done', ',', 'more', 'is', 'said', 'than', 'done', '.']`. Process this list using a `for` loop, and store the length of each word in a new list `lengths`. Hint: begin by assigning the empty list to `lengths`, using `lengths = []`. Then each time through the loop, use `append()` to add another length value to the list. Now do the same thing using a list comprehension."
   ]
  },
  {
   "cell_type": "code",
   "execution_count": 1,
   "id": "bf6d49ea-107e-4cc7-9866-d04bec9bf19a",
   "metadata": {},
   "outputs": [],
   "source": [
    "saying = [\"After\", \"all\", \"is\", \"said\", \"and\", \"done\", \",\", \"more\", \"is\", \"said\", \"than\", \"done\", \".\"]"
   ]
  },
  {
   "cell_type": "code",
   "execution_count": 2,
   "id": "5afb08f2-b8e9-442b-b9a2-e66a23d0833f",
   "metadata": {},
   "outputs": [
    {
     "data": {
      "text/plain": [
       "[5, 3, 2, 4, 3, 4, 1, 4, 2, 4, 4, 4, 1]"
      ]
     },
     "execution_count": 2,
     "metadata": {},
     "output_type": "execute_result"
    }
   ],
   "source": [
    "lengths = []\n",
    "for w in saying:\n",
    "    lengths.append(len(w))\n",
    "lengths"
   ]
  },
  {
   "cell_type": "code",
   "execution_count": 3,
   "id": "bc2640e1-3a13-4bb9-8d35-84fe2c93d197",
   "metadata": {},
   "outputs": [],
   "source": [
    "del lengths"
   ]
  },
  {
   "cell_type": "code",
   "execution_count": 4,
   "id": "9498bf98-677f-4b75-9dff-3e00e6de463f",
   "metadata": {},
   "outputs": [
    {
     "data": {
      "text/plain": [
       "[5, 3, 2, 4, 3, 4, 1, 4, 2, 4, 4, 4, 1]"
      ]
     },
     "execution_count": 4,
     "metadata": {},
     "output_type": "execute_result"
    }
   ],
   "source": [
    "lengths = [len(w) for w in saying]\n",
    "lengths"
   ]
  },
  {
   "cell_type": "code",
   "execution_count": null,
   "id": "cd942bf1-d727-43de-8cb3-76ddaa24c80b",
   "metadata": {},
   "outputs": [],
   "source": []
  }
 ],
 "metadata": {
  "kernelspec": {
   "display_name": "Python 3 (ipykernel)",
   "language": "python",
   "name": "python3"
  },
  "language_info": {
   "codemirror_mode": {
    "name": "ipython",
    "version": 3
   },
   "file_extension": ".py",
   "mimetype": "text/x-python",
   "name": "python",
   "nbconvert_exporter": "python",
   "pygments_lexer": "ipython3",
   "version": "3.11.1"
  }
 },
 "nbformat": 4,
 "nbformat_minor": 5
}
