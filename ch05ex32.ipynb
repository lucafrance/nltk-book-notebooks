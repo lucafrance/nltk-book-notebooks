{
 "cells": [
  {
   "cell_type": "markdown",
   "id": "b943e7bd-762e-4399-9468-d202519185c3",
   "metadata": {},
   "source": [
    "Define a variable `silly` to contain the string: `'newly formed bland ideas are inexpressible in an infuriating way'`. (This happens to be the legitimate interpretation that bilingual English-Spanish speakers can assign to Chomsky's famous nonsense phrase, *colorless green ideas sleep furiously* according to Wikipedia). Now write code to perform the following tasks:\n",
    "- a. Split silly into a list of strings, one per word, using Python's `split()` operation, and save this to a variable called `bland`.\n",
    "- b. Extract the second letter of each word in silly and join them into a string, to get `'eoldrnnnna'`.\n",
    "- c. Combine the words in `bland` back into a single string, using `join()`. Make sure the words in the resulting string are separated with whitespace.\n",
    "- d. Print the words of silly in alphabetical order, one per line."
   ]
  },
  {
   "cell_type": "code",
   "execution_count": 1,
   "id": "04102e0b-1b93-453a-9b1d-370f9f760587",
   "metadata": {},
   "outputs": [],
   "source": [
    "silly = \"newly formed bland ideas are inexpressible in an infuriating way\""
   ]
  },
  {
   "cell_type": "code",
   "execution_count": 2,
   "id": "b0d06cbe-0e0f-4df7-8ca9-498f7ed411c7",
   "metadata": {},
   "outputs": [],
   "source": [
    "bland = silly.split()"
   ]
  },
  {
   "cell_type": "code",
   "execution_count": 3,
   "id": "3f389f1e-ae8c-42ac-99ee-c6ed157b31a5",
   "metadata": {},
   "outputs": [
    {
     "data": {
      "text/plain": [
       "'eoldrnnnna'"
      ]
     },
     "execution_count": 3,
     "metadata": {},
     "output_type": "execute_result"
    }
   ],
   "source": [
    "\"\".join(w[1] for w in bland)"
   ]
  },
  {
   "cell_type": "code",
   "execution_count": 4,
   "id": "5dde5e07-a662-4275-8e29-95d161adca13",
   "metadata": {},
   "outputs": [
    {
     "data": {
      "text/plain": [
       "'newly formed bland ideas are inexpressible in an infuriating way'"
      ]
     },
     "execution_count": 4,
     "metadata": {},
     "output_type": "execute_result"
    }
   ],
   "source": [
    "\" \".join(bland)"
   ]
  },
  {
   "cell_type": "code",
   "execution_count": 5,
   "id": "7f83d273-7258-4d7d-a10a-801b99b4494f",
   "metadata": {},
   "outputs": [
    {
     "name": "stdout",
     "output_type": "stream",
     "text": [
      "an\n",
      "are\n",
      "bland\n",
      "formed\n",
      "ideas\n",
      "in\n",
      "inexpressible\n",
      "infuriating\n",
      "newly\n",
      "way\n"
     ]
    }
   ],
   "source": [
    "print(\"\\n\".join(sorted(bland)))"
   ]
  },
  {
   "cell_type": "code",
   "execution_count": null,
   "id": "c1072a63-e2d6-4f69-ad71-847064e3f0c7",
   "metadata": {},
   "outputs": [],
   "source": []
  }
 ],
 "metadata": {
  "kernelspec": {
   "display_name": "Python 3 (ipykernel)",
   "language": "python",
   "name": "python3"
  },
  "language_info": {
   "codemirror_mode": {
    "name": "ipython",
    "version": 3
   },
   "file_extension": ".py",
   "mimetype": "text/x-python",
   "name": "python",
   "nbconvert_exporter": "python",
   "pygments_lexer": "ipython3",
   "version": "3.11.1"
  }
 },
 "nbformat": 4,
 "nbformat_minor": 5
}
