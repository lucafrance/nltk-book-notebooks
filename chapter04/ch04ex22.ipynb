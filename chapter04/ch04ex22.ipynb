{
 "cells": [
  {
   "cell_type": "markdown",
   "id": "125fd576-fdc4-4c29-bd8d-9fecc633b818",
   "metadata": {},
   "source": [
    "Import the `itemgetter()` function from the `operator` module in Python's standard library (i.e. `from operator import itemgetter)`. Create a list words containing several words. Now try calling: `sorted(words, key=itemgetter(1))`, and `sorted(words, key=itemgetter(-1))`. Explain what `itemgetter()` is doing."
   ]
  },
  {
   "cell_type": "code",
   "execution_count": 1,
   "id": "2e4930a8-495a-49e0-abfb-d7c92b503578",
   "metadata": {},
   "outputs": [],
   "source": [
    "from operator import itemgetter"
   ]
  },
  {
   "cell_type": "code",
   "execution_count": 2,
   "id": "bbd13455-7cd1-46af-9d6f-af1ab242110a",
   "metadata": {},
   "outputs": [
    {
     "data": {
      "text/plain": [
       "'Universal, Declaration, of, Human, Rights, Preamble, Whereas, recognition, of, the, inherent, dignity, and, of, the'"
      ]
     },
     "execution_count": 2,
     "metadata": {},
     "output_type": "execute_result"
    }
   ],
   "source": [
    "from nltk.corpus import udhr\n",
    "words = udhr.words(\"English-Latin1\")[:15]\n",
    "\", \".join(words)"
   ]
  },
  {
   "cell_type": "code",
   "execution_count": 3,
   "id": "4dc2e822-094b-43b0-9568-70d14c2f3ebc",
   "metadata": {},
   "outputs": [
    {
     "data": {
      "text/plain": [
       "['Declaration',\n",
       " 'recognition',\n",
       " 'of',\n",
       " 'of',\n",
       " 'of',\n",
       " 'Whereas',\n",
       " 'the',\n",
       " 'the',\n",
       " 'Rights',\n",
       " 'dignity',\n",
       " 'Universal',\n",
       " 'inherent',\n",
       " 'and',\n",
       " 'Preamble',\n",
       " 'Human']"
      ]
     },
     "execution_count": 3,
     "metadata": {},
     "output_type": "execute_result"
    }
   ],
   "source": [
    "sorted(words, key=itemgetter(1))"
   ]
  },
  {
   "cell_type": "code",
   "execution_count": 4,
   "id": "ee582830-89a7-4b16-8a4a-150f7fc50ad5",
   "metadata": {},
   "outputs": [
    {
     "data": {
      "text/plain": [
       "['and',\n",
       " 'Preamble',\n",
       " 'the',\n",
       " 'the',\n",
       " 'of',\n",
       " 'of',\n",
       " 'of',\n",
       " 'Universal',\n",
       " 'Declaration',\n",
       " 'Human',\n",
       " 'recognition',\n",
       " 'Rights',\n",
       " 'Whereas',\n",
       " 'inherent',\n",
       " 'dignity']"
      ]
     },
     "execution_count": 4,
     "metadata": {},
     "output_type": "execute_result"
    }
   ],
   "source": [
    "sorted(words, key=itemgetter(-1))"
   ]
  },
  {
   "cell_type": "code",
   "execution_count": null,
   "id": "b44ba8ac-f140-4baa-9934-50afbf020c94",
   "metadata": {},
   "outputs": [],
   "source": []
  }
 ],
 "metadata": {
  "kernelspec": {
   "display_name": "Python 3 (ipykernel)",
   "language": "python",
   "name": "python3"
  },
  "language_info": {
   "codemirror_mode": {
    "name": "ipython",
    "version": 3
   },
   "file_extension": ".py",
   "mimetype": "text/x-python",
   "name": "python",
   "nbconvert_exporter": "python",
   "pygments_lexer": "ipython3",
   "version": "3.11.1"
  }
 },
 "nbformat": 4,
 "nbformat_minor": 5
}
