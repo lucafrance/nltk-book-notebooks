{
 "cells": [
  {
   "cell_type": "markdown",
   "id": "6b611f2b-2349-4059-89e6-b192895ddde0",
   "metadata": {},
   "source": [
    "Python's `random` module includes a function `choice()` which randomly chooses an item from a sequence, e.g. `choice(\"aehh \")` will produce one of four possible characters, with the letter `h` being twice as frequent as the others. Write a generator expression that produces a sequence of 500 randomly chosen letters drawn from the string `\"aehh \"`, and put this expression inside a call to the `''.join()` function, to concatenate them into one long string. You should get a result that looks like uncontrolled sneezing or maniacal laughter: `he  haha ee  heheeh eha`. Use `split()` and `join()` again to normalize the whitespace in this string."
   ]
  },
  {
   "cell_type": "code",
   "execution_count": 1,
   "id": "320a182a-659e-454d-8d9e-f399a0e619d9",
   "metadata": {},
   "outputs": [],
   "source": [
    "import random"
   ]
  },
  {
   "cell_type": "code",
   "execution_count": 2,
   "id": "2604decd-9584-4d88-84a8-2c349252dbef",
   "metadata": {},
   "outputs": [
    {
     "data": {
      "text/plain": [
       "' hhehhhehh hehhe    eh hhahh  h e hahe hah ee ahe  haeh ahhh h hhhheheaahhhah     hehe   h hhh  hahhh ehaehe aahah hhahhhee aa aae  ahaeeheahaa aeh  ah ah eehhahhhhee ehaheaee eee hhhehhaaeehe hhhhhhaheahhhh heh   a hah hheeha haah e a eaehh ahhe eaahh   ahhhh hehehaaehhehaa eeheheaahaheha h  ehhheh  he haahaaehhhhhhe ehhea h hhaeea eaaeha  ahh h ehhhehee   aaeh hh aa aeaa eaah h hhh h h ehh hheh hhaahea  eh ahae aahh hha hheahaahhaheehh hhheahhha h  h hhahhhhhaa h  hhea  hhheahh  hahhahha  haae'"
      ]
     },
     "execution_count": 2,
     "metadata": {},
     "output_type": "execute_result"
    }
   ],
   "source": [
    "random.seed(0)\n",
    "maniacal_laughter = \"\".join(random.choices(\"aehh \", k=500))\n",
    "maniacal_laughter"
   ]
  },
  {
   "cell_type": "code",
   "execution_count": 3,
   "id": "6256fc35-31f5-4eca-a54a-fb8e417536ed",
   "metadata": {},
   "outputs": [
    {
     "data": {
      "text/plain": [
       "'hhehhhehh hehhe eh hhahh h e hahe hah ee ahe haeh ahhh h hhhheheaahhhah hehe h hhh hahhh ehaehe aahah hhahhhee aa aae ahaeeheahaa aeh ah ah eehhahhhhee ehaheaee eee hhhehhaaeehe hhhhhhaheahhhh heh a hah hheeha haah e a eaehh ahhe eaahh ahhhh hehehaaehhehaa eeheheaahaheha h ehhheh he haahaaehhhhhhe ehhea h hhaeea eaaeha ahh h ehhhehee aaeh hh aa aeaa eaah h hhh h h ehh hheh hhaahea eh ahae aahh hha hheahaahhaheehh hhheahhha h h hhahhhhhaa h hhea hhheahh hahhahha haae'"
      ]
     },
     "execution_count": 3,
     "metadata": {},
     "output_type": "execute_result"
    }
   ],
   "source": [
    "\" \".join(maniacal_laughter.split())"
   ]
  },
  {
   "cell_type": "code",
   "execution_count": null,
   "id": "1c04bfd2-36f6-4c27-a29b-bb735c8f4632",
   "metadata": {},
   "outputs": [],
   "source": []
  }
 ],
 "metadata": {
  "kernelspec": {
   "display_name": "Python 3 (ipykernel)",
   "language": "python",
   "name": "python3"
  },
  "language_info": {
   "codemirror_mode": {
    "name": "ipython",
    "version": 3
   },
   "file_extension": ".py",
   "mimetype": "text/x-python",
   "name": "python",
   "nbconvert_exporter": "python",
   "pygments_lexer": "ipython3",
   "version": "3.11.1"
  }
 },
 "nbformat": 4,
 "nbformat_minor": 5
}
