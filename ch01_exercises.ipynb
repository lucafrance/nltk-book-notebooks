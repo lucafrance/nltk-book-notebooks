{
 "cells": [
  {
   "cell_type": "markdown",
   "id": "d275ccbe-6528-4f71-a8f0-2695e2fe0b33",
   "metadata": {},
   "source": [
    "2. Given an alphabet of 26 letters, there are 26 to the power 10, or 26 ** 10, ten-letter strings we can form. That works out to 141167095653376. How many hundred-letter strings are possible?"
   ]
  },
  {
   "cell_type": "code",
   "execution_count": 1,
   "id": "d2eb71b4-882b-4601-a91d-8d2d86346f83",
   "metadata": {},
   "outputs": [
    {
     "data": {
      "text/plain": [
       "3142930641582938830174357788501626427282669988762475256374173175398995908420104023465432599069702289330964075081611719197835869803511992549376"
      ]
     },
     "execution_count": 1,
     "metadata": {},
     "output_type": "execute_result"
    }
   ],
   "source": [
    "26 ** 100"
   ]
  },
  {
   "cell_type": "markdown",
   "id": "b4c8a457-8096-40ae-9969-b1f273830b7c",
   "metadata": {},
   "source": [
    "3. The Python multiplication operation can be applied to lists. What happens when you type `['Monty', 'Python'] * 20`, or `3 * sent1`?"
   ]
  },
  {
   "cell_type": "code",
   "execution_count": 2,
   "id": "aafa0449-da3d-4eef-a160-287fb8d1fdd2",
   "metadata": {},
   "outputs": [
    {
     "name": "stdout",
     "output_type": "stream",
     "text": [
      "*** Introductory Examples for the NLTK Book ***\n",
      "Loading text1, ..., text9 and sent1, ..., sent9\n",
      "Type the name of the text or sentence to view it.\n",
      "Type: 'texts()' or 'sents()' to list the materials.\n",
      "text1: Moby Dick by Herman Melville 1851\n",
      "text2: Sense and Sensibility by Jane Austen 1811\n",
      "text3: The Book of Genesis\n",
      "text4: Inaugural Address Corpus\n",
      "text5: Chat Corpus\n",
      "text6: Monty Python and the Holy Grail\n",
      "text7: Wall Street Journal\n",
      "text8: Personals Corpus\n",
      "text9: The Man Who Was Thursday by G . K . Chesterton 1908\n"
     ]
    }
   ],
   "source": [
    "from nltk.book import sent1"
   ]
  },
  {
   "cell_type": "code",
   "execution_count": 3,
   "id": "bae75134-d678-407e-9236-809b78fd526c",
   "metadata": {},
   "outputs": [
    {
     "data": {
      "text/plain": [
       "['Call', 'me', 'Ishmael', '.']"
      ]
     },
     "execution_count": 3,
     "metadata": {},
     "output_type": "execute_result"
    }
   ],
   "source": [
    "sent1"
   ]
  },
  {
   "cell_type": "code",
   "execution_count": 4,
   "id": "6e8cd3ab-2e28-4dbc-8d03-875a1c0fd8c4",
   "metadata": {},
   "outputs": [
    {
     "data": {
      "text/plain": [
       "['Monty',\n",
       " 'Python',\n",
       " 'Monty',\n",
       " 'Python',\n",
       " 'Monty',\n",
       " 'Python',\n",
       " 'Monty',\n",
       " 'Python',\n",
       " 'Monty',\n",
       " 'Python',\n",
       " 'Monty',\n",
       " 'Python',\n",
       " 'Monty',\n",
       " 'Python',\n",
       " 'Monty',\n",
       " 'Python',\n",
       " 'Monty',\n",
       " 'Python',\n",
       " 'Monty',\n",
       " 'Python',\n",
       " 'Monty',\n",
       " 'Python',\n",
       " 'Monty',\n",
       " 'Python',\n",
       " 'Monty',\n",
       " 'Python',\n",
       " 'Monty',\n",
       " 'Python',\n",
       " 'Monty',\n",
       " 'Python',\n",
       " 'Monty',\n",
       " 'Python',\n",
       " 'Monty',\n",
       " 'Python',\n",
       " 'Monty',\n",
       " 'Python',\n",
       " 'Monty',\n",
       " 'Python',\n",
       " 'Monty',\n",
       " 'Python']"
      ]
     },
     "execution_count": 4,
     "metadata": {},
     "output_type": "execute_result"
    }
   ],
   "source": [
    "['Monty', 'Python'] * 20"
   ]
  },
  {
   "cell_type": "code",
   "execution_count": 5,
   "id": "60b8762f-19d1-4d22-9905-e640a2aa3b15",
   "metadata": {},
   "outputs": [
    {
     "data": {
      "text/plain": [
       "['Call',\n",
       " 'me',\n",
       " 'Ishmael',\n",
       " '.',\n",
       " 'Call',\n",
       " 'me',\n",
       " 'Ishmael',\n",
       " '.',\n",
       " 'Call',\n",
       " 'me',\n",
       " 'Ishmael',\n",
       " '.']"
      ]
     },
     "execution_count": 5,
     "metadata": {},
     "output_type": "execute_result"
    }
   ],
   "source": [
    "3 * sent1"
   ]
  },
  {
   "cell_type": "markdown",
   "id": "5d42b4f5-e06f-4eb9-a401-5d5d0bee6f19",
   "metadata": {},
   "source": [
    "4. Review [1](https://www.nltk.org/book/ch01.html#sec-computing-with-language-texts-and-words) on computing with language. How many words are there in `text2`? How many distinct words are there?"
   ]
  },
  {
   "cell_type": "code",
   "execution_count": 6,
   "id": "82809bec-1d2f-4072-b658-15b21d03525a",
   "metadata": {},
   "outputs": [],
   "source": [
    "from nltk.book import text2"
   ]
  },
  {
   "cell_type": "code",
   "execution_count": 14,
   "id": "69bf4ceb-fc61-42fc-aecf-0494fb563311",
   "metadata": {},
   "outputs": [
    {
     "data": {
      "text/plain": [
       "'There are 141576 words in text2.'"
      ]
     },
     "execution_count": 14,
     "metadata": {},
     "output_type": "execute_result"
    }
   ],
   "source": [
    "f\"There are {len(text2)} words in text2.\""
   ]
  },
  {
   "cell_type": "code",
   "execution_count": 15,
   "id": "581bc929-6685-442f-b930-0d2c274c2d1f",
   "metadata": {},
   "outputs": [
    {
     "data": {
      "text/plain": [
       "'There are 6833 distinct words in text2.'"
      ]
     },
     "execution_count": 15,
     "metadata": {},
     "output_type": "execute_result"
    }
   ],
   "source": [
    "f\"There are {len(set(text2))} distinct words in text2.\""
   ]
  },
  {
   "cell_type": "markdown",
   "id": "a0cfbd9c-2664-46cb-8639-489b6d0ecd78",
   "metadata": {},
   "source": [
    "5. Compare the lexical diversity scores for humor and romance fiction in [1.1](https://www.nltk.org/book/ch01.html#tab-brown-types). Which genre is more lexically diverse?"
   ]
  },
  {
   "cell_type": "markdown",
   "id": "e4cbf1e7-5f4f-49c3-961b-37ff2aeaf677",
   "metadata": {},
   "source": [
    "Humor has 0.231 lexical diversity, while romance has 0.121. Humor is more lexically diverse than romance."
   ]
  },
  {
   "cell_type": "markdown",
   "id": "adede8f7-b158-4c47-960a-90e5f1696539",
   "metadata": {},
   "source": [
    "6. Produce a dispersion plot of the four main protagonists in Sense and Sensibility: Elinor, Marianne, Edward, and Willoughby. What can you observe about the different roles played by the males and females in this novel? Can you identify the couples?"
   ]
  },
  {
   "cell_type": "code",
   "execution_count": 17,
   "id": "90106901-bb07-43dc-b300-df1f5d00c58f",
   "metadata": {},
   "outputs": [
    {
     "data": {
      "image/png": "[encoded data removed]",
      "text/plain": [
       "<Figure size 640x480 with 1 Axes>"
      ]
     },
     "metadata": {},
     "output_type": "display_data"
    }
   ],
   "source": [
    "text2.dispersion_plot([\"Elinor\", \"Marianne\", \"Edward\", \"Willoughby\"])"
   ]
  },
  {
   "cell_type": "markdown",
   "id": "c203eb29-5781-4f62-8fdd-f64459ee9b3c",
   "metadata": {},
   "source": [
    "Male protagonists occur more often throughout the book than female protagonists. I can't identify the couples."
   ]
  },
  {
   "cell_type": "markdown",
   "id": "13f55877-ae6c-4fea-921d-c8ae785adc97",
   "metadata": {},
   "source": [
    "7. Find the collocations in text5."
   ]
  },
  {
   "cell_type": "code",
   "execution_count": 18,
   "id": "20a933f8-00c2-472c-9a7f-d3fa04e3f979",
   "metadata": {},
   "outputs": [],
   "source": [
    "from nltk.book import text5"
   ]
  },
  {
   "cell_type": "code",
   "execution_count": 19,
   "id": "9b2121b6-5f43-47db-8b51-299fc7841703",
   "metadata": {},
   "outputs": [
    {
     "name": "stdout",
     "output_type": "stream",
     "text": [
      "wanna chat; PART JOIN; MODE #14-19teens; JOIN PART; PART PART;\n",
      "cute.-ass MP3; MP3 player; JOIN JOIN; times .. .; ACTION watches; guys\n",
      "wanna; song lasts; last night; ACTION sits; -...)...- S.M.R.; Lime\n",
      "Player; Player 12%; dont know; lez gurls; long time\n"
     ]
    }
   ],
   "source": [
    "text5.collocations()"
   ]
  },
  {
   "cell_type": "markdown",
   "id": "a7f32179-f33f-47e6-bbf0-c4a8449b2212",
   "metadata": {},
   "source": [
    "8. Consider the following Python expression: `len(set(text4))`. State the purpose of this expression. Describe the two steps involved in performing this computation."
   ]
  },
  {
   "cell_type": "markdown",
   "id": "60220646-e14e-46aa-ab60-671c793cfa42",
   "metadata": {},
   "source": [
    "The purpose of the expression is to count the number of distinct words in `text4`. `set` is a data structure without repeating values. `len` is a function returning the number of elements (length) of the object."
   ]
  },
  {
   "cell_type": "markdown",
   "id": "3284ae7f-0e7b-4cc7-add5-cc55fe79d43f",
   "metadata": {},
   "source": [
    "9. Review [2](https://www.nltk.org/book/ch01.html#sec-a-closer-look-at-python-texts-as-lists-of-words) on lists and strings.\n",
    "\n",
    "- a. Define a string and assign it to a variable, e.g., `my_string = 'My String'` (but put something more interesting in the string). Print the contents of this variable in two ways, first by simply typing the variable name and pressing enter, then by using the print statement.\n",
    "- b. Try adding the string to itself using my_string + my_string, or multiplying it by a number, e.g., `my_string * 3`. Notice that the strings are joined together without any spaces. How could you fix this?"
   ]
  },
  {
   "cell_type": "code",
   "execution_count": 21,
   "id": "e1089dc9-39de-4439-81d6-86bc993a2808",
   "metadata": {},
   "outputs": [],
   "source": [
    "art1 = \"L'Italia è una Repubblica democratica, fondata sul lavoro.\\n\\nLa sovranità appartiene al popolo, che la esercita nelle forme e nei limiti della Costituzione.\""
   ]
  },
  {
   "cell_type": "code",
   "execution_count": 22,
   "id": "180f39e6-cd1b-4557-9f22-ae795660421b",
   "metadata": {},
   "outputs": [
    {
     "data": {
      "text/plain": [
       "\"L'Italia è una Repubblica democratica, fondata sul lavoro.\\n\\nLa sovranità appartiene al popolo, che la esercita nelle forme e nei limiti della Costituzione.\""
      ]
     },
     "execution_count": 22,
     "metadata": {},
     "output_type": "execute_result"
    }
   ],
   "source": [
    "art1"
   ]
  },
  {
   "cell_type": "code",
   "execution_count": 23,
   "id": "95f2f54d-828b-445c-8b35-2f51c70e06b2",
   "metadata": {},
   "outputs": [
    {
     "name": "stdout",
     "output_type": "stream",
     "text": [
      "L'Italia è una Repubblica democratica, fondata sul lavoro.\n",
      "\n",
      "La sovranità appartiene al popolo, che la esercita nelle forme e nei limiti della Costituzione.\n"
     ]
    }
   ],
   "source": [
    "print(art1)"
   ]
  },
  {
   "cell_type": "markdown",
   "id": "a4664cb4-a713-4ad8-97b3-333af3983c0e",
   "metadata": {},
   "source": [
    "I can think of three ways to join the string with itself with a space."
   ]
  },
  {
   "cell_type": "code",
   "execution_count": 24,
   "id": "1f74eac7-de5f-46c1-9785-d573649c1883",
   "metadata": {},
   "outputs": [
    {
     "data": {
      "text/plain": [
       "\"L'Italia è una Repubblica democratica, fondata sul lavoro.\\n\\nLa sovranità appartiene al popolo, che la esercita nelle forme e nei limiti della Costituzione. L'Italia è una Repubblica democratica, fondata sul lavoro.\\n\\nLa sovranità appartiene al popolo, che la esercita nelle forme e nei limiti della Costituzione.\""
      ]
     },
     "execution_count": 24,
     "metadata": {},
     "output_type": "execute_result"
    }
   ],
   "source": [
    "art1 + \" \" + art1"
   ]
  },
  {
   "cell_type": "code",
   "execution_count": 26,
   "id": "e42ba07c-7c2f-4d1e-b0e9-c73f2c0dc8f5",
   "metadata": {},
   "outputs": [
    {
     "data": {
      "text/plain": [
       "\"L'Italia è una Repubblica democratica, fondata sul lavoro.\\n\\nLa sovranità appartiene al popolo, che la esercita nelle forme e nei limiti della Costituzione. L'Italia è una Repubblica democratica, fondata sul lavoro.\\n\\nLa sovranità appartiene al popolo, che la esercita nelle forme e nei limiti della Costituzione.\""
      ]
     },
     "execution_count": 26,
     "metadata": {},
     "output_type": "execute_result"
    }
   ],
   "source": [
    "\" \".join([art1, art1])"
   ]
  },
  {
   "cell_type": "code",
   "execution_count": 25,
   "id": "5c493188-8140-46f2-a550-2b1fa6a3220e",
   "metadata": {},
   "outputs": [
    {
     "data": {
      "text/plain": [
       "\"L'Italia è una Repubblica democratica, fondata sul lavoro.\\n\\nLa sovranità appartiene al popolo, che la esercita nelle forme e nei limiti della Costituzione. L'Italia è una Repubblica democratica, fondata sul lavoro.\\n\\nLa sovranità appartiene al popolo, che la esercita nelle forme e nei limiti della Costituzione. L'Italia è una Repubblica democratica, fondata sul lavoro.\\n\\nLa sovranità appartiene al popolo, che la esercita nelle forme e nei limiti della Costituzione. \""
      ]
     },
     "execution_count": 25,
     "metadata": {},
     "output_type": "execute_result"
    }
   ],
   "source": [
    "(art1 + \" \") * 3"
   ]
  },
  {
   "cell_type": "markdown",
   "id": "b093623d-8e6e-4e90-83f8-b649baf01e4b",
   "metadata": {},
   "source": [
    "10. Define a variable my_sent to be a list of words, using the syntax `my_sent = [\"My\", \"sent\"]` (but with your own words, or a favorite saying)."
   ]
  },
  {
   "cell_type": "code",
   "execution_count": 27,
   "id": "b3ebc8e8-9dcf-477e-995b-bba371db5027",
   "metadata": {},
   "outputs": [],
   "source": [
    "lorem_ipsum = [\"lorem\", \"ipsum\", \"dolor\", \"sit\", \"amet\"]"
   ]
  },
  {
   "cell_type": "code",
   "execution_count": 28,
   "id": "97deea23-fa1d-4812-a856-146ec4936b46",
   "metadata": {},
   "outputs": [
    {
     "data": {
      "text/plain": [
       "'lorem ipsum dolor sit amet'"
      ]
     },
     "execution_count": 28,
     "metadata": {},
     "output_type": "execute_result"
    }
   ],
   "source": [
    "\" \".join(lorem_ipsum)"
   ]
  },
  {
   "cell_type": "code",
   "execution_count": 30,
   "id": "b91a7ea6-fbfe-49d9-ae25-756fa8bea104",
   "metadata": {},
   "outputs": [
    {
     "data": {
      "text/plain": [
       "['lorem', 'ipsum', 'dolor', 'sit', 'amet']"
      ]
     },
     "execution_count": 30,
     "metadata": {},
     "output_type": "execute_result"
    }
   ],
   "source": [
    "\" \".join(lorem_ipsum).split()"
   ]
  },
  {
   "cell_type": "markdown",
   "id": "ad06a784-2b6d-460f-825c-05cb886a1321",
   "metadata": {},
   "source": [
    "11. Define several variables containing lists of words, e.g., phrase1, phrase2, and so on. Join them together in various combinations (using the plus operator) to form whole sentences. What is the relationship between `len(phrase1 + phrase2)` and `len(phrase1)` + `len(phrase2)`?"
   ]
  },
  {
   "cell_type": "markdown",
   "id": "d4bd9a8a-8a19-4737-acba-eec5248bfa86",
   "metadata": {},
   "source": [
    "`len(phrase1 + phrase2)` and `len(phrase1)` + `len(phrase2)` are the same value."
   ]
  },
  {
   "cell_type": "markdown",
   "id": "5845f3f0-562f-4185-8827-138952ae7af7",
   "metadata": {},
   "source": [
    "12. Consider the following two expressions, which have the same value. Which one will typically be more relevant in NLP? Why?\n",
    "    - a. `\"Monty Python\"[6:12]`\n",
    "    - b. `[\"Monty\", \"Python\"][1]`"
   ]
  },
  {
   "cell_type": "markdown",
   "id": "49d0d1de-07e0-412d-836e-9ae1ad3c558b",
   "metadata": {},
   "source": [
    "Expression *b* will be more relevant than expression *a*, as we will be mostly be interested in the tokenized version of text."
   ]
  },
  {
   "cell_type": "markdown",
   "id": "6f72386f-619a-42a9-810a-85e98b2e5431",
   "metadata": {},
   "source": [
    "13. We have seen how to represent a sentence as a list of words, where each word is a sequence of characters. What does `sent1[2][2]` do? Why? Experiment with other index values."
   ]
  },
  {
   "cell_type": "markdown",
   "id": "49a4c3ce-27ac-43bf-8dd2-5c285e4b342b",
   "metadata": {},
   "source": [
    "`sent1[2]` returns the third work of `sent1`, `sent1[2][2]` returns the third letter of the third word of `sent1`."
   ]
  },
  {
   "cell_type": "code",
   "execution_count": null,
   "id": "ea7edece-85bc-4bd0-9f1f-0f16c8cd8305",
   "metadata": {},
   "outputs": [],
   "source": []
  }
 ],
 "metadata": {
  "kernelspec": {
   "display_name": "Python 3 (ipykernel)",
   "language": "python",
   "name": "python3"
  },
  "language_info": {
   "codemirror_mode": {
    "name": "ipython",
    "version": 3
   },
   "file_extension": ".py",
   "mimetype": "text/x-python",
   "name": "python",
   "nbconvert_exporter": "python",
   "pygments_lexer": "ipython3",
   "version": "3.11.1"
  }
 },
 "nbformat": 4,
 "nbformat_minor": 5
}
