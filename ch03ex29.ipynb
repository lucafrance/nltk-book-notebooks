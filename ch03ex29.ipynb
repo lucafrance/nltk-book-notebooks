{
 "cells": [
  {
   "cell_type": "markdown",
   "id": "6e94a13d-d411-4e77-a98f-7c32e8208aa8",
   "metadata": {},
   "source": [
    "Readability measures are used to score the reading difficulty of a text, for the purposes of selecting texts of appropriate difficulty for language learners. Let us define $\\mu_w$ to be the average number of letters per word, and $\\mu_s$ to be the average number of words per sentence, in a given text. The Automated Readability Index (ARI) of the text is defined to be: $4.71 \\mu_w + 0.5 \\mu_s - 21.43$. Compute the ARI score for various sections of the Brown Corpus, including section `f` (lore) and `j` (learned). Make use of the fact that `nltk.corpus.brown.words()` produces a sequence of words, while `nltk.corpus.brown.sents()` produces a sequence of sentences"
   ]
  },
  {
   "cell_type": "code",
   "execution_count": 1,
   "id": "00503c9c-e6de-4c48-9293-08de1f066a97",
   "metadata": {},
   "outputs": [],
   "source": [
    "from statistics import mean\n",
    "\n",
    "from nltk.corpus import brown\n",
    "from tabulate import tabulate"
   ]
  },
  {
   "cell_type": "code",
   "execution_count": 2,
   "id": "20d55acb-eae9-4a73-961a-834c2f04b81a",
   "metadata": {},
   "outputs": [],
   "source": [
    "def ari(brown_category):\n",
    "    words = brown.words(categories=brown_category)\n",
    "    average_letters_per_word = mean(len(w) for w in words)\n",
    "    sents = brown.sents(categories=brown_category)\n",
    "    average_words_per_sentence = mean(len(s) for s in sents)\n",
    "    return 4.71 * average_letters_per_word + 0.5 * average_words_per_sentence - 21.43"
   ]
  },
  {
   "cell_type": "code",
   "execution_count": 3,
   "id": "38d12331-d8fa-469d-8ded-cdd15e92d890",
   "metadata": {},
   "outputs": [
    {
     "name": "stdout",
     "output_type": "stream",
     "text": [
      "Genre                 ARI\n",
      "---------------  --------\n",
      "adventure         4.08417\n",
      "belles_lettres   10.9877\n",
      "editorial         9.47103\n",
      "fiction           4.91047\n",
      "government       12.0843\n",
      "hobbies           8.92236\n",
      "humor             7.88781\n",
      "learned          11.926\n",
      "lore             10.2548\n",
      "mystery           3.83355\n",
      "news             10.1767\n",
      "religion         10.2031\n",
      "reviews          10.7697\n",
      "romance           4.34922\n",
      "science_fiction   4.97806\n"
     ]
    }
   ],
   "source": [
    "table = [[c, ari(c)] for c in brown.categories()]\n",
    "print(tabulate(table, headers=[\"Genre\", \"ARI\"]))"
   ]
  },
  {
   "cell_type": "code",
   "execution_count": null,
   "id": "7af13e13-09d5-4dab-adf0-e6a213bd2a23",
   "metadata": {},
   "outputs": [],
   "source": []
  }
 ],
 "metadata": {
  "kernelspec": {
   "display_name": "Python 3 (ipykernel)",
   "language": "python",
   "name": "python3"
  },
  "language_info": {
   "codemirror_mode": {
    "name": "ipython",
    "version": 3
   },
   "file_extension": ".py",
   "mimetype": "text/x-python",
   "name": "python",
   "nbconvert_exporter": "python",
   "pygments_lexer": "ipython3",
   "version": "3.11.1"
  }
 },
 "nbformat": 4,
 "nbformat_minor": 5
}
