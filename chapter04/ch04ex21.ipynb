{
 "cells": [
  {
   "cell_type": "markdown",
   "id": "ff56f7ce-dabf-4d19-a086-07eca624e3da",
   "metadata": {},
   "source": [
    "Write a function that takes a text and a vocabulary as its arguments and returns the set of words that appear in the text but not in the vocabulary. Both arguments can be represented as lists of strings. Can you do this in a single line, using `set.difference()`?"
   ]
  },
  {
   "cell_type": "code",
   "execution_count": 1,
   "id": "6dc047e3-ccb4-4fcf-b4a4-d669351b93a5",
   "metadata": {},
   "outputs": [],
   "source": [
    "def not_in_vocabulary(text, vocabulary):\n",
    "    return set(text).difference(set(vocabulary))"
   ]
  },
  {
   "cell_type": "code",
   "execution_count": 2,
   "id": "705d385f-3e80-43c3-a6d7-35a0d670f589",
   "metadata": {},
   "outputs": [
    {
     "data": {
      "text/plain": [
       "{'Human', 'human'}"
      ]
     },
     "execution_count": 2,
     "metadata": {},
     "output_type": "execute_result"
    }
   ],
   "source": [
    "from nltk.corpus import udhr\n",
    "text = udhr.words(\"English-Latin1\")\n",
    "vocabulary = [w for w in list(text) if w.lower() != \"human\"]\n",
    "not_in_vocabulary(text, vocabulary)"
   ]
  },
  {
   "cell_type": "code",
   "execution_count": null,
   "id": "b2203719-4b55-4b77-bfc2-86ed90f0d67b",
   "metadata": {},
   "outputs": [],
   "source": []
  }
 ],
 "metadata": {
  "kernelspec": {
   "display_name": "Python 3 (ipykernel)",
   "language": "python",
   "name": "python3"
  },
  "language_info": {
   "codemirror_mode": {
    "name": "ipython",
    "version": 3
   },
   "file_extension": ".py",
   "mimetype": "text/x-python",
   "name": "python",
   "nbconvert_exporter": "python",
   "pygments_lexer": "ipython3",
   "version": "3.11.1"
  }
 },
 "nbformat": 4,
 "nbformat_minor": 5
}
