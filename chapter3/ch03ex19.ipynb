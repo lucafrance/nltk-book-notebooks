{
 "cells": [
  {
   "cell_type": "code",
   "execution_count": 1,
   "id": "23c12af4-185c-461b-bd9a-47e60ccadaca",
   "metadata": {},
   "outputs": [],
   "source": [
    "import random\n",
    "\n",
    "import nltk\n",
    "from nltk.corpus import brown"
   ]
  },
  {
   "cell_type": "code",
   "execution_count": 2,
   "id": "36a355b5-83a9-48a1-a98e-5f5a07f4685a",
   "metadata": {},
   "outputs": [],
   "source": [
    "source_txt = list(brown.words(categories=\"science_fiction\"))"
   ]
  },
  {
   "cell_type": "markdown",
   "id": "1c2a4d20-9a0e-47cc-97e7-63c2b2440ab1",
   "metadata": {},
   "source": [
    "Create the file."
   ]
  },
  {
   "cell_type": "code",
   "execution_count": 3,
   "id": "9c053ac7-c6a3-4c55-b7dc-308ef08fb16e",
   "metadata": {},
   "outputs": [],
   "source": [
    "# Empty the file if already existing\n",
    "f = open(\"ch03_ex19.txt\", \"wt\")\n",
    "f.close()\n",
    "\n",
    "random.seed(0)\n",
    "words = random.sample(list(set(source_txt)), k=100)\n",
    "frequencies = [random.randrange(1, 100) for _ in range(100)]\n",
    "lines = [f\"{w} {f}\\n\" for w, f in zip(words, frequencies)]\n",
    "\n",
    "with open(\"ch03_ex19.txt\", \"at\") as f:\n",
    "    for line in lines:\n",
    "        f.write(line)   "
   ]
  },
  {
   "cell_type": "markdown",
   "id": "16084742-1f0b-4c6f-8174-6702f46b6300",
   "metadata": {},
   "source": [
    "Read the file."
   ]
  },
  {
   "cell_type": "code",
   "execution_count": 4,
   "id": "09e09d38-1755-47cd-a9b8-8ea31c4bd539",
   "metadata": {},
   "outputs": [
    {
     "data": {
      "text/plain": [
       "[['scene', 25],\n",
       " ['posed', 24],\n",
       " ['vector', 5],\n",
       " ['southern', 79],\n",
       " ['ragged', 85],\n",
       " ['activated', 34],\n",
       " ['building', 61],\n",
       " ['glass', 9],\n",
       " ['torture', 12],\n",
       " ['whining', 87],\n",
       " ['soundly', 97],\n",
       " ['overridden', 17],\n",
       " ['the', 20],\n",
       " ['exercise', 5],\n",
       " ['increase', 11],\n",
       " ['Fine', 90],\n",
       " ['cherish', 70],\n",
       " ['perfect', 88],\n",
       " ['plugged', 51],\n",
       " ['diaphragmic', 91],\n",
       " ['mouths', 68],\n",
       " ['Tristan', 36],\n",
       " ['Haijac', 67],\n",
       " ['ago', 31],\n",
       " ['party', 28],\n",
       " ['organs', 87],\n",
       " ['human', 76],\n",
       " ['pattern', 54],\n",
       " ['charm', 75],\n",
       " ['mineral', 36],\n",
       " ['being', 58],\n",
       " ['hindered', 64],\n",
       " ['Christian', 85],\n",
       " ['war', 83],\n",
       " ['talked', 90],\n",
       " ['marks', 46],\n",
       " ['dreamed', 11],\n",
       " ['retorted', 42],\n",
       " ['song', 79],\n",
       " ['twisted', 15],\n",
       " ['banging', 63],\n",
       " ['noticed', 76],\n",
       " ['zone', 81],\n",
       " ['nursery', 43],\n",
       " ['indicating', 25],\n",
       " ['deliberate', 32],\n",
       " ['sprawled', 3],\n",
       " ['Stormy', 94],\n",
       " ['lamechians', 35],\n",
       " ['number', 15],\n",
       " ['switch', 91],\n",
       " ['basic', 29],\n",
       " ['augmented', 48],\n",
       " [\"can't\", 22],\n",
       " ['after', 43],\n",
       " ['trace', 55],\n",
       " ['takes', 8],\n",
       " ['guided', 13],\n",
       " ['plans', 19],\n",
       " ['fuses', 90],\n",
       " ['very', 29],\n",
       " ['struggled', 6],\n",
       " ['crew', 74],\n",
       " ['Yes', 82],\n",
       " [\"Master's\", 69],\n",
       " ['by', 78],\n",
       " ['match', 88],\n",
       " ['descendants', 10],\n",
       " ['care', 4],\n",
       " ['art', 16],\n",
       " ['Being', 82],\n",
       " ['times', 25],\n",
       " ['pleased', 78],\n",
       " ['swath', 74],\n",
       " ['without', 16],\n",
       " ['snow', 51],\n",
       " ['eventually', 12],\n",
       " ['came', 48],\n",
       " ['bad', 15],\n",
       " ['ship', 5],\n",
       " ['stepping', 78],\n",
       " ['clerk', 3],\n",
       " [\"pilots'\", 25],\n",
       " ['headed', 24],\n",
       " ['proper', 92],\n",
       " ['His', 16],\n",
       " ['keen', 62],\n",
       " ['Earth-weeks', 27],\n",
       " ['resettling', 94],\n",
       " ['religion', 8],\n",
       " ['smiling', 87],\n",
       " ['faced', 3],\n",
       " ['fire', 70],\n",
       " ['rise', 55],\n",
       " ['individually', 80],\n",
       " ['sure', 13],\n",
       " [\"doesn't\", 34],\n",
       " ['A', 9],\n",
       " ['individuals', 29],\n",
       " ['nevertheless', 10]]"
      ]
     },
     "execution_count": 4,
     "metadata": {},
     "output_type": "execute_result"
    }
   ],
   "source": [
    "lines = open(\"ch03_ex19.txt\", \"rt\").readlines()\n",
    "lines = [line.strip() for line in lines.copy()]\n",
    "lines = [line.split() for line in lines.copy()]\n",
    "lines = [[w, int(n)] for w, n in lines.copy()]\n",
    "lines"
   ]
  },
  {
   "cell_type": "code",
   "execution_count": null,
   "id": "5519e0d4-4a84-4aad-8177-1511cc8a7466",
   "metadata": {},
   "outputs": [],
   "source": []
  }
 ],
 "metadata": {
  "kernelspec": {
   "display_name": "Python 3 (ipykernel)",
   "language": "python",
   "name": "python3"
  },
  "language_info": {
   "codemirror_mode": {
    "name": "ipython",
    "version": 3
   },
   "file_extension": ".py",
   "mimetype": "text/x-python",
   "name": "python",
   "nbconvert_exporter": "python",
   "pygments_lexer": "ipython3",
   "version": "3.11.1"
  }
 },
 "nbformat": 4,
 "nbformat_minor": 5
}
