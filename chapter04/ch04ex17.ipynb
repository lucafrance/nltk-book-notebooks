{
 "cells": [
  {
   "cell_type": "markdown",
   "id": "d3123238-048f-48de-b14b-db99f3efecd0",
   "metadata": {},
   "source": [
    "Write a function `shorten(text, n)` to process a text, omitting the *n* most frequently occurring words of the text. How readable is it?"
   ]
  },
  {
   "cell_type": "code",
   "execution_count": 1,
   "id": "48908000-ad9f-4582-9783-34af980ebb6c",
   "metadata": {},
   "outputs": [],
   "source": [
    "import nltk"
   ]
  },
  {
   "cell_type": "code",
   "execution_count": 2,
   "id": "c1a9846d-03d2-4dca-8c7c-992df40a0000",
   "metadata": {},
   "outputs": [],
   "source": [
    "def shorten(text, n):\n",
    "    fd = nltk.FreqDist(text)\n",
    "    most_common = [w for w, _ in fd.most_common(n)]\n",
    "    text = [w for w in text if w not in most_common]\n",
    "    return text"
   ]
  },
  {
   "cell_type": "code",
   "execution_count": 3,
   "id": "b7c2697b-b4f1-4567-8600-ae5ee6ede7cb",
   "metadata": {},
   "outputs": [
    {
     "data": {
      "text/plain": [
       "'Universal Declaration Human Rights Preamble Whereas recognition inherent dignity equal inalienable rights all members human family is foundation freedom justice peace in world Whereas disregard contempt for human rights have resulted in barbarous acts which have outraged conscience mankind advent a world in which human beings shall enjoy freedom speech belief freedom from fear want has been proclaimed as highest aspiration common people Whereas it is essential if man is not be compelled have recourse as a last resort rebellion against tyranny oppression that human rights should be protected by rule law Whereas it is essential promote development friendly relations between nations Whereas peoples United Nations have in Charter reaffirmed their faith in fundamental human rights in dignity worth human person in equal rights men women have determined promote social progress better standards life in larger freedom Whereas Member States have pledged themselves achieve in cooperation with United Nations promotion universal respect for observance human rights fundamental freedoms Whereas a common understanding these rights freedoms is greatest importance for full realization this pledge Now therefore The General Assembly Proclaims this Universal Declaration Human Rights as a common standard achievement for all peoples all nations end that every individual every organ society keeping this Declaration constantly in mind shall strive by teaching education promote respect for these rights freedoms by progressive measures national international secure their universal effective recognition observance both among peoples Member States themselves among peoples territories under their jurisdiction . Article 1 All human beings are born free equal in dignity rights . They are endowed with reason conscience should act towards one another in a spirit brotherhood . Article 2 Everyone is entitled all rights freedoms set forth in this Declaration without distinction any kind such as race colour sex language religion political or other opinion national or social origin property birth or other status . Furthermore no distinction shall be made on basis political jurisdictional or international status country or territory which a person belongs whether it be independent trust non - self - governing or under any other limitation sovereignty . Article 3 Everyone has right life liberty security person . Article 4 No one shall be held in slavery or servitude ; slavery slave trade shall be prohibited in all their forms . Article 5 No one shall be subjected torture or cruel inhuman or degrading treatment or punishment . Article 6 Everyone has right recognition everywhere as a person before law . Article 7 All are equal before law are entitled without any discrimination equal protection law . All are entitled equal protection against any discrimination in violation this Declaration against any incitement such discrimination . Article 8 Everyone has right an effective remedy by competent national tribunals for acts violating fundamental rights granted him by constitution or by law . Article 9 No one shall be subjected arbitrary arrest detention or exile . Article 10 Everyone is entitled in full equality a fair public hearing by an independent impartial tribunal in determination his rights obligations any criminal charge against him . Article 11 Everyone charged with a penal offence has right be presumed innocent until proved guilty according law in a public trial at which he has had all guarantees necessary for his defence . No one shall be held guilty any penal offence on account any act or omission which did not constitute a penal offence under national or international law at time when it was committed . Nor shall a heavier penalty be imposed than one that was applicable at time penal offence was committed . Article 12 No one shall be subjected arbitrary interference with his privacy family home or correspondence nor attacks upon his honour reputation . Everyone has right protection law against such interference or attacks . Article 13 Everyone has right freedom movement residence within borders each State . Everyone has right leave any country including his own return his country . Article 14 Everyone has right seek enjoy in other countries asylum from persecution . This right may not be invoked in case prosecutions genuinely arising from non - political crimes or from acts contrary purposes principles United Nations . Article 15 Everyone has right a nationality . No one shall be arbitrarily deprived his nationality nor denied right change his nationality . Article 16 Men women full age without any limitation due race nationality or religion have right marry found a family . They are entitled equal rights as marriage during marriage at its dissolution . Marriage shall be entered into only with free full consent intending spouses . The family is natural fundamental group unit society is entitled protection by society State . Article 17 Everyone has right own property alone as well as in association with others . No one shall be arbitrarily deprived his property . Article 18 Everyone has right freedom thought conscience religion ; this right includes freedom change his religion or belief freedom either alone or in community with others in public or private manifest his religion or belief in teaching practice worship observance . Article 19 Everyone has right freedom opinion expression ; this right includes freedom hold opinions without interference seek receive impart information ideas through any media regardless frontiers . Article 20 Everyone has right freedom peaceful assembly association . No one may be compelled belong an association . Article 21 Everyone has right take part in government his country directly or through freely chosen representatives . Everyone has right equal access public service in his country . The will people shall be basis authority government ; this will shall be expressed in periodic genuine elections which shall be by universal equal suffrage shall be held by secret vote or by equivalent free voting procedures . Article 22 Everyone as a member society has right social security is entitled realization through national effort international co - operation in accordance with organization resources each State economic social cultural rights indispensable for his dignity free development his personality . Article 23 Everyone has right work free choice employment just favourable conditions work protection against unemployment . Everyone without any discrimination has right equal pay for equal work . Everyone who works has right just favourable remuneration ensuring for himself his family an existence worthy human dignity supplemented if necessary by other means social protection . Everyone has right form join trade unions for protection his interests . Article 24 Everyone has right rest leisure including reasonable limitation working hours periodic holidays with pay . Article 25 Everyone has right a standard living adequate for health well - being himself his family including food clothing housing medical care necessary social services right security in event unemployment sickness disability widowhood old age or other lack livelihood in circumstances beyond his control . Motherhood childhood are entitled special care assistance . All children whether born in or out wedlock shall enjoy same social protection . Article 26 Everyone has right education . Education shall be free at least in elementary fundamental stages . Elementary education shall be compulsory . Technical professional education shall be made generally available higher education shall be equally accessible all on basis merit . Education shall be directed full development human personality strengthening respect for human rights fundamental freedoms . It shall promote understanding tolerance friendship among all nations racial or religious groups shall further activities United Nations for maintenance peace . Parents have a prior right choose kind education that shall be given their children . Article 27 Everyone has right freely participate in cultural life community enjoy arts share in scientific advancement its benefits . Everyone has right protection moral material interests resulting from any scientific literary or artistic production which he is author . Article 28 Everyone is entitled a social international order in which rights freedoms set forth in this Declaration can be fully realized . Article 29 Everyone has duties community in which alone th'"
      ]
     },
     "execution_count": 3,
     "metadata": {},
     "output_type": "execute_result"
    }
   ],
   "source": [
    "udhr_en = nltk.corpus.udhr.words(\"English-Latin1\")\n",
    "\" \".join(shorten(udhr_en, 5))"
   ]
  },
  {
   "cell_type": "code",
   "execution_count": null,
   "id": "9d4abd9b-511d-4874-9347-8b111c920c95",
   "metadata": {},
   "outputs": [],
   "source": []
  }
 ],
 "metadata": {
  "kernelspec": {
   "display_name": "Python 3 (ipykernel)",
   "language": "python",
   "name": "python3"
  },
  "language_info": {
   "codemirror_mode": {
    "name": "ipython",
    "version": 3
   },
   "file_extension": ".py",
   "mimetype": "text/x-python",
   "name": "python",
   "nbconvert_exporter": "python",
   "pygments_lexer": "ipython3",
   "version": "3.11.1"
  }
 },
 "nbformat": 4,
 "nbformat_minor": 5
}
