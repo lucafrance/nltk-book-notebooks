{
 "cells": [
  {
   "cell_type": "code",
   "execution_count": 1,
   "id": "20a8e76f-a6c0-4021-bbaf-acf6fd4aca75",
   "metadata": {},
   "outputs": [],
   "source": [
    "from urllib import request\n",
    "import re\n",
    "\n",
    "from bs4 import BeautifulSoup\n",
    "import nltk"
   ]
  },
  {
   "cell_type": "code",
   "execution_count": 2,
   "id": "76d14bf4-e195-4d78-8c5d-73d762506ba1",
   "metadata": {},
   "outputs": [],
   "source": [
    "# Fromm exerxicse 8 of chapter 3\n",
    "def page_text(url):\n",
    "    html = request.urlopen(url).read().decode(\"utf8\")\n",
    "    return BeautifulSoup(html).get_text()"
   ]
  },
  {
   "cell_type": "code",
   "execution_count": 3,
   "id": "23616c34-8bd6-4f59-84a4-73bc72578c5f",
   "metadata": {},
   "outputs": [],
   "source": [
    "def unknown_words(url):\n",
    "    text = page_text(url)\n",
    "    words = re.findall(r\"(?<!\\w)[a-z]+\", text)\n",
    "    known_words = list(nltk.corpus.words.words())\n",
    "    unknown_words = [w for w in words if w not in known_words]\n",
    "    return list(set(unknown_words))"
   ]
  },
  {
   "cell_type": "code",
   "execution_count": 4,
   "id": "6ab96d73-6625-442e-a228-70ea7a33ac71",
   "metadata": {},
   "outputs": [
    {
     "data": {
      "text/plain": [
       "'strategies, publications, uses, shared, rom, topics, largest, solutions, matters, shares, sees, poorest, countries, helps, institutions, has, charts, shqip, instruments, doesn, opportunities, accumulated, locations, blog, regions, suggests, levels, meets, actions, op, developing, prices, org, services, scores, worldbank, students, published, reports, products, steps, blogs, ensuring, members, ed, defining, newest, placed, priorities, projects, events, children, download, losses, women, implies, terms, systems, preferences, https, scars, investments, documents, worldwide, olds, needed, restrictions, website, offices, recognizing, issues, challenges, things, benefits, cookies, skills, strongest, boosting, economies, teachers, empowered, including, goals, exacerbated, policies, dropdown, adapting, toughest, committed'"
      ]
     },
     "execution_count": 4,
     "metadata": {},
     "output_type": "execute_result"
    }
   ],
   "source": [
    "\", \".join(unknown_words(\"https://www.worldbank.org\"))"
   ]
  },
  {
   "cell_type": "markdown",
   "id": "2d49b2de-7753-439d-bb81-2ce62ff59021",
   "metadata": {},
   "source": [
    "Of the unknown words, most seem to be plural forms of known words."
   ]
  },
  {
   "cell_type": "code",
   "execution_count": null,
   "id": "8449798b-cf61-4173-83db-3383ff2d11f6",
   "metadata": {},
   "outputs": [],
   "source": []
  }
 ],
 "metadata": {
  "kernelspec": {
   "display_name": "Python 3 (ipykernel)",
   "language": "python",
   "name": "python3"
  },
  "language_info": {
   "codemirror_mode": {
    "name": "ipython",
    "version": 3
   },
   "file_extension": ".py",
   "mimetype": "text/x-python",
   "name": "python",
   "nbconvert_exporter": "python",
   "pygments_lexer": "ipython3",
   "version": "3.11.1"
  }
 },
 "nbformat": 4,
 "nbformat_minor": 5
}
