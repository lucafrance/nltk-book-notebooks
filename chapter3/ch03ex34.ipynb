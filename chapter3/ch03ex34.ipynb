{
 "cells": [
  {
   "cell_type": "markdown",
   "id": "512a0345-43b4-417b-93c1-344415c93044",
   "metadata": {},
   "source": [
    "Write code to convert nationality adjectives like *Canadian* and *Australian* to their corresponding nouns *Canada* and *Australia* (see http://en.wikipedia.org/wiki/List_of_adjectival_forms_of_place_names)."
   ]
  },
  {
   "cell_type": "code",
   "execution_count": 1,
   "id": "47e19957-c5d0-46de-a716-088c74aa7755",
   "metadata": {},
   "outputs": [],
   "source": [
    "def demonym_to_nation(demonym):\n",
    "    lines = open(\"demonyms.csv\", \"rt\", encoding=\"utf8\").readlines()\n",
    "    lines = [line.strip(\"\\n \\ufeff\").split(\",\") for line in lines.copy()]\n",
    "    demonyms = [l[0] for l in lines]\n",
    "    countries = [l[1] for l in lines]\n",
    "    return countries[demonyms.index(demonym)]"
   ]
  },
  {
   "cell_type": "code",
   "execution_count": 2,
   "id": "fca7ff5b-4ec7-4322-a079-34d1a8c90b75",
   "metadata": {},
   "outputs": [
    {
     "data": {
      "text/plain": [
       "'Canada'"
      ]
     },
     "execution_count": 2,
     "metadata": {},
     "output_type": "execute_result"
    }
   ],
   "source": [
    "demonym_to_nation(\"Canadians\")"
   ]
  },
  {
   "cell_type": "code",
   "execution_count": 3,
   "id": "eec76b41-4e30-4cd3-a7d4-09591220b181",
   "metadata": {},
   "outputs": [
    {
     "data": {
      "text/plain": [
       "'Australia'"
      ]
     },
     "execution_count": 3,
     "metadata": {},
     "output_type": "execute_result"
    }
   ],
   "source": [
    "demonym_to_nation(\"Australians\")"
   ]
  },
  {
   "cell_type": "code",
   "execution_count": null,
   "id": "41154136-1e9c-4891-80d8-659bafa952f3",
   "metadata": {},
   "outputs": [],
   "source": []
  }
 ],
 "metadata": {
  "kernelspec": {
   "display_name": "Python 3 (ipykernel)",
   "language": "python",
   "name": "python3"
  },
  "language_info": {
   "codemirror_mode": {
    "name": "ipython",
    "version": 3
   },
   "file_extension": ".py",
   "mimetype": "text/x-python",
   "name": "python",
   "nbconvert_exporter": "python",
   "pygments_lexer": "ipython3",
   "version": "3.11.1"
  }
 },
 "nbformat": 4,
 "nbformat_minor": 5
}
