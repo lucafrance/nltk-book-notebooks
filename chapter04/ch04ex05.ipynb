{
 "cells": [
  {
   "cell_type": "markdown",
   "id": "7bf069de-88dd-4558-bc04-b62d4b0ef496",
   "metadata": {},
   "source": [
    "Read about the built-in comparison function `cmp`, by typing `help(cmp)`. How does it differ in behavior from the comparison operators?"
   ]
  },
  {
   "cell_type": "code",
   "execution_count": 1,
   "id": "be6a863e-f4a0-49db-b50f-19595200a5d9",
   "metadata": {},
   "outputs": [
    {
     "ename": "NameError",
     "evalue": "name 'cmp' is not defined",
     "output_type": "error",
     "traceback": [
      "\u001b[1;31m---------------------------------------------------------------------------\u001b[0m",
      "\u001b[1;31mNameError\u001b[0m                                 Traceback (most recent call last)",
      "Cell \u001b[1;32mIn[1], line 3\u001b[0m\n\u001b[0;32m      1\u001b[0m \u001b[38;5;66;03m# The exericise is no longer relevant for Python 3, cmp no longer exists.\u001b[39;00m\n\u001b[0;32m      2\u001b[0m \u001b[38;5;66;03m# https://github.com/nltk/nltk_book/pull/261\u001b[39;00m\n\u001b[1;32m----> 3\u001b[0m help(\u001b[43mcmp\u001b[49m)\n",
      "\u001b[1;31mNameError\u001b[0m: name 'cmp' is not defined"
     ]
    }
   ],
   "source": [
    "# The exericise is no longer relevant for Python 3, cmp no longer exists.\n",
    "# https://github.com/nltk/nltk_book/pull/261\n",
    "help(cmp)"
   ]
  },
  {
   "cell_type": "code",
   "execution_count": null,
   "id": "e675521c-54cd-4ed6-a93e-23959dbaf39e",
   "metadata": {},
   "outputs": [],
   "source": []
  }
 ],
 "metadata": {
  "kernelspec": {
   "display_name": "Python 3 (ipykernel)",
   "language": "python",
   "name": "python3"
  },
  "language_info": {
   "codemirror_mode": {
    "name": "ipython",
    "version": 3
   },
   "file_extension": ".py",
   "mimetype": "text/x-python",
   "name": "python",
   "nbconvert_exporter": "python",
   "pygments_lexer": "ipython3",
   "version": "3.11.1"
  }
 },
 "nbformat": 4,
 "nbformat_minor": 5
}
