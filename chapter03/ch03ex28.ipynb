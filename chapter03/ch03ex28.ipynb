{
 "cells": [
  {
   "cell_type": "markdown",
   "id": "30332af0-6278-4999-a5b7-434f1433a3bc",
   "metadata": {},
   "source": [
    "Consider the numeric expressions in the following sentence from the MedLine Corpus: *The corresponding free cortisol fractions in these sera were 4.53 +/- 0.15% and 8.16 +/- 0.23%, respectively*. Should we say that the numeric expression *4.53 +/- 0.15%* is three words? Or should we say that it's a single compound word? Or should we say that it is actually *nine* words, since it's read \"four point five three, plus or minus zero point fifteen percent\"? Or should we say that it's not a \"real\" word at all, since it wouldn't appear in any dictionary? Discuss these different possibilities. Can you think of application domains that motivate at least two of these answers?"
   ]
  },
  {
   "cell_type": "markdown",
   "id": "f91b2101-6749-400a-8f9f-8c6a92edeb3c",
   "metadata": {},
   "source": [
    "The numeric expression is a single compund word, as the percentage margin of error would be meaningless without the preceeding value. The value *4.53* could be its own word if included without the margin fo error."
   ]
  },
  {
   "cell_type": "code",
   "execution_count": null,
   "id": "b827270e-285f-4011-b5ce-1300f7534a29",
   "metadata": {},
   "outputs": [],
   "source": []
  }
 ],
 "metadata": {
  "kernelspec": {
   "display_name": "Python 3 (ipykernel)",
   "language": "python",
   "name": "python3"
  },
  "language_info": {
   "codemirror_mode": {
    "name": "ipython",
    "version": 3
   },
   "file_extension": ".py",
   "mimetype": "text/x-python",
   "name": "python",
   "nbconvert_exporter": "python",
   "pygments_lexer": "ipython3",
   "version": "3.11.1"
  }
 },
 "nbformat": 4,
 "nbformat_minor": 5
}
