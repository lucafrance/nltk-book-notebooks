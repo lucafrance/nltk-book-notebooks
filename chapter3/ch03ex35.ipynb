{
 "cells": [
  {
   "cell_type": "markdown",
   "id": "63e192b3-4286-4cfe-a856-71b79f943169",
   "metadata": {},
   "source": [
    "Read the LanguageLog post on phrases of the form *as best as p can* and *as best p can*, where p is a pronoun. Investigate this phenomenon with the help of a corpus and the `findall()` method for searching tokenized text described in [3.5](https://www.nltk.org/book/ch03.html#sec-useful-applications-of-regular-expressions). http://itre.cis.upenn.edu/~myl/languagelog/archives/002733.html"
   ]
  },
  {
   "cell_type": "code",
   "execution_count": 1,
   "id": "93bdc04f-46be-48fa-8194-ec9c6fbbdd64",
   "metadata": {},
   "outputs": [],
   "source": [
    "import re\n",
    "import nltk"
   ]
  },
  {
   "cell_type": "markdown",
   "id": "417a6491-2f44-488d-8ee8-8915763dc807",
   "metadata": {},
   "source": [
    "The corpora included with nltk do not seem to include any instance of *as best as ...*. I only found just one in the *Sample European Parliament Proceedings Parallel Corpus*. "
   ]
  },
  {
   "cell_type": "code",
   "execution_count": 2,
   "id": "7fc750a2-46ff-4c41-bdbe-5cd6bba357b3",
   "metadata": {},
   "outputs": [],
   "source": [
    "from nltk.corpus import europarl_raw\n",
    "corpus = europarl_raw.english.raw()"
   ]
  },
  {
   "cell_type": "code",
   "execution_count": 3,
   "id": "7f6551e2-3365-4792-abdd-e673432b7987",
   "metadata": {},
   "outputs": [
    {
     "data": {
      "text/plain": [
       "['as best as']"
      ]
     },
     "execution_count": 3,
     "metadata": {},
     "output_type": "execute_result"
    }
   ],
   "source": [
    "re.findall(r\"as best \\w+\", corpus)"
   ]
  },
  {
   "cell_type": "code",
   "execution_count": null,
   "id": "3c0d13e2-a1e8-4cc7-9811-52f9d905b597",
   "metadata": {},
   "outputs": [],
   "source": []
  }
 ],
 "metadata": {
  "kernelspec": {
   "display_name": "Python 3 (ipykernel)",
   "language": "python",
   "name": "python3"
  },
  "language_info": {
   "codemirror_mode": {
    "name": "ipython",
    "version": 3
   },
   "file_extension": ".py",
   "mimetype": "text/x-python",
   "name": "python",
   "nbconvert_exporter": "python",
   "pygments_lexer": "ipython3",
   "version": "3.11.1"
  }
 },
 "nbformat": 4,
 "nbformat_minor": 5
}
