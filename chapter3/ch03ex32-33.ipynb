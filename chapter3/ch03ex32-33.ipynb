{
 "cells": [
  {
   "cell_type": "markdown",
   "id": "b943e7bd-762e-4399-9468-d202519185c3",
   "metadata": {},
   "source": [
    "Define a variable `silly` to contain the string: `'newly formed bland ideas are inexpressible in an infuriating way'`. (This happens to be the legitimate interpretation that bilingual English-Spanish speakers can assign to Chomsky's famous nonsense phrase, *colorless green ideas sleep furiously* according to Wikipedia). Now write code to perform the following tasks:\n",
    "- a. Split silly into a list of strings, one per word, using Python's `split()` operation, and save this to a variable called `bland`.\n",
    "- b. Extract the second letter of each word in silly and join them into a string, to get `'eoldrnnnna'`.\n",
    "- c. Combine the words in `bland` back into a single string, using `join()`. Make sure the words in the resulting string are separated with whitespace.\n",
    "- d. Print the words of silly in alphabetical order, one per line."
   ]
  },
  {
   "cell_type": "code",
   "execution_count": 1,
   "id": "04102e0b-1b93-453a-9b1d-370f9f760587",
   "metadata": {},
   "outputs": [],
   "source": [
    "silly = \"newly formed bland ideas are inexpressible in an infuriating way\""
   ]
  },
  {
   "cell_type": "code",
   "execution_count": 2,
   "id": "b0d06cbe-0e0f-4df7-8ca9-498f7ed411c7",
   "metadata": {},
   "outputs": [],
   "source": [
    "bland = silly.split()"
   ]
  },
  {
   "cell_type": "code",
   "execution_count": 3,
   "id": "3f389f1e-ae8c-42ac-99ee-c6ed157b31a5",
   "metadata": {},
   "outputs": [
    {
     "data": {
      "text/plain": [
       "'eoldrnnnna'"
      ]
     },
     "execution_count": 3,
     "metadata": {},
     "output_type": "execute_result"
    }
   ],
   "source": [
    "\"\".join(w[1] for w in bland)"
   ]
  },
  {
   "cell_type": "code",
   "execution_count": 4,
   "id": "5dde5e07-a662-4275-8e29-95d161adca13",
   "metadata": {},
   "outputs": [
    {
     "data": {
      "text/plain": [
       "'newly formed bland ideas are inexpressible in an infuriating way'"
      ]
     },
     "execution_count": 4,
     "metadata": {},
     "output_type": "execute_result"
    }
   ],
   "source": [
    "\" \".join(bland)"
   ]
  },
  {
   "cell_type": "code",
   "execution_count": 5,
   "id": "7f83d273-7258-4d7d-a10a-801b99b4494f",
   "metadata": {},
   "outputs": [
    {
     "name": "stdout",
     "output_type": "stream",
     "text": [
      "an\n",
      "are\n",
      "bland\n",
      "formed\n",
      "ideas\n",
      "in\n",
      "inexpressible\n",
      "infuriating\n",
      "newly\n",
      "way\n"
     ]
    }
   ],
   "source": [
    "print(\"\\n\".join(sorted(bland)))"
   ]
  },
  {
   "cell_type": "markdown",
   "id": "09d5aefe-7e85-4ad7-8f8c-1b9ef210bc19",
   "metadata": {},
   "source": [
    "The `index()` function can be used to look up items in sequences. For example, `'inexpressible'.index('e')` tells us the index of the first position of the letter `e`.\n",
    "- a. What happens when you look up a substring, e.g. `'inexpressible'.index('re')`?\n",
    "- b. Define a variable words containing a list of words. Now use `words.index()` to look up the position of an individual word.\n",
    "- c. Define a variable `silly` as in the exercise above. Use the `index()` function in combination with list slicing to build a list `phrase` consisting of all the words up to (but not including) `in` in `silly`.\n"
   ]
  },
  {
   "cell_type": "code",
   "execution_count": 6,
   "id": "47276827-47b9-4f92-8447-5fa78591fae9",
   "metadata": {},
   "outputs": [
    {
     "data": {
      "text/plain": [
       "5"
      ]
     },
     "execution_count": 6,
     "metadata": {},
     "output_type": "execute_result"
    }
   ],
   "source": [
    "# Whit a substring `index` returns the position of the substring\n",
    "\"inexpressible\".index('re')"
   ]
  },
  {
   "cell_type": "code",
   "execution_count": 7,
   "id": "dfba51bd-0a49-40a8-90df-afcf95a8bbbb",
   "metadata": {},
   "outputs": [
    {
     "data": {
      "text/plain": [
       "34"
      ]
     },
     "execution_count": 7,
     "metadata": {},
     "output_type": "execute_result"
    }
   ],
   "source": [
    "words = \"\"\"Tutti i cittadini hanno pari dignità sociale e sono eguali davanti alla legge,\n",
    "senza distinzione di sesso, di razza, di lingua, di religione, di opinioni politiche, \n",
    "di condizioni personali e sociali.\n",
    "È compito della Repubblica rimuovere gli ostacoli di ordine economico e sociale, che,\n",
    "limitando di fatto la libertà e l'eguaglianza dei cittadini, impediscono il pieno\n",
    "sviluppo della persona umana e l'effettiva partecipazione di tutti i lavoratori \n",
    "all'organizzazione politica, economica e sociale del Paese.\"\"\".split()\n",
    "words.index(\"Repubblica\")"
   ]
  },
  {
   "cell_type": "code",
   "execution_count": 8,
   "id": "b1180b3d-2468-47e0-9a1a-0c02c46f07ca",
   "metadata": {},
   "outputs": [
    {
     "data": {
      "text/plain": [
       "['newly', 'formed', 'bland', 'ideas', 'are', 'inexpressible']"
      ]
     },
     "execution_count": 8,
     "metadata": {},
     "output_type": "execute_result"
    }
   ],
   "source": [
    "silly = \"newly formed bland ideas are inexpressible in an infuriating way\"\n",
    "silly_words = silly.split() \n",
    "phrase = silly_words[:silly_words.index(\"in\")]\n",
    "phrase"
   ]
  },
  {
   "cell_type": "code",
   "execution_count": null,
   "id": "f258691f-c6fc-4954-9f1f-74dd0575e9b4",
   "metadata": {},
   "outputs": [],
   "source": []
  }
 ],
 "metadata": {
  "kernelspec": {
   "display_name": "Python 3 (ipykernel)",
   "language": "python",
   "name": "python3"
  },
  "language_info": {
   "codemirror_mode": {
    "name": "ipython",
    "version": 3
   },
   "file_extension": ".py",
   "mimetype": "text/x-python",
   "name": "python",
   "nbconvert_exporter": "python",
   "pygments_lexer": "ipython3",
   "version": "3.11.1"
  }
 },
 "nbformat": 4,
 "nbformat_minor": 5
}
