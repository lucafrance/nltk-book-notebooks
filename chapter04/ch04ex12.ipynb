{
 "cells": [
  {
   "cell_type": "markdown",
   "id": "30536009-fa94-4459-8f17-af29b9007a15",
   "metadata": {},
   "source": [
    "Initialize an n-by-m list of lists of empty strings using list multiplication, e.g. `word_table = [[''] * n] * m`. What happens when you set one of its values, e.g. `word_table[1][2] = \"hello\"`? Explain why this happens. Now write an expression using `range()` to construct a list of lists, and show that it does not have this problem."
   ]
  },
  {
   "cell_type": "code",
   "execution_count": 1,
   "id": "b200b3b7-b18c-47cc-a8fe-633533e11fa1",
   "metadata": {},
   "outputs": [],
   "source": [
    "n = 5\n",
    "m = 6"
   ]
  },
  {
   "cell_type": "code",
   "execution_count": 2,
   "id": "d31e090b-b2e6-4099-a5e6-0b0b96c44280",
   "metadata": {},
   "outputs": [
    {
     "data": {
      "text/plain": [
       "[['', '', '', '', ''],\n",
       " ['', '', '', '', ''],\n",
       " ['', '', '', '', ''],\n",
       " ['', '', '', '', ''],\n",
       " ['', '', '', '', ''],\n",
       " ['', '', '', '', '']]"
      ]
     },
     "execution_count": 2,
     "metadata": {},
     "output_type": "execute_result"
    }
   ],
   "source": [
    "word_table = [[''] * n] * m\n",
    "word_table"
   ]
  },
  {
   "cell_type": "code",
   "execution_count": 3,
   "id": "5f3cd1b5-752b-45db-8633-676516d56280",
   "metadata": {},
   "outputs": [
    {
     "data": {
      "text/plain": [
       "[['', '', 'hello', '', ''],\n",
       " ['', '', 'hello', '', ''],\n",
       " ['', '', 'hello', '', ''],\n",
       " ['', '', 'hello', '', ''],\n",
       " ['', '', 'hello', '', ''],\n",
       " ['', '', 'hello', '', '']]"
      ]
     },
     "execution_count": 3,
     "metadata": {},
     "output_type": "execute_result"
    }
   ],
   "source": [
    "word_table[1][2] = \"hello\"\n",
    "word_table"
   ]
  },
  {
   "cell_type": "markdown",
   "id": "cafc823e-1e87-44b8-ab11-774eeb396194",
   "metadata": {},
   "source": [
    "By muliplying a list, the same list is repeated multiple times."
   ]
  },
  {
   "cell_type": "code",
   "execution_count": 4,
   "id": "f6168009-c49b-4ad5-97d8-e549aeb08ae4",
   "metadata": {},
   "outputs": [
    {
     "data": {
      "text/plain": [
       "[['', '', '', '', ''],\n",
       " ['', '', '', '', ''],\n",
       " ['', '', '', '', ''],\n",
       " ['', '', '', '', ''],\n",
       " ['', '', '', '', ''],\n",
       " ['', '', '', '', '']]"
      ]
     },
     "execution_count": 4,
     "metadata": {},
     "output_type": "execute_result"
    }
   ],
   "source": [
    "word_table = [['' for _ in range(n)] for _ in range(m)]\n",
    "word_table"
   ]
  },
  {
   "cell_type": "code",
   "execution_count": 5,
   "id": "7dab25ae-b789-41b8-af1c-4eae2b627e2f",
   "metadata": {},
   "outputs": [
    {
     "data": {
      "text/plain": [
       "[['', '', '', '', ''],\n",
       " ['', '', 'hello', '', ''],\n",
       " ['', '', '', '', ''],\n",
       " ['', '', '', '', ''],\n",
       " ['', '', '', '', ''],\n",
       " ['', '', '', '', '']]"
      ]
     },
     "execution_count": 5,
     "metadata": {},
     "output_type": "execute_result"
    }
   ],
   "source": [
    "word_table[1][2] = \"hello\"\n",
    "word_table"
   ]
  },
  {
   "cell_type": "code",
   "execution_count": null,
   "id": "ad20ea96-37da-4a36-9518-5cc9e8ff13c8",
   "metadata": {},
   "outputs": [],
   "source": []
  }
 ],
 "metadata": {
  "kernelspec": {
   "display_name": "Python 3 (ipykernel)",
   "language": "python",
   "name": "python3"
  },
  "language_info": {
   "codemirror_mode": {
    "name": "ipython",
    "version": 3
   },
   "file_extension": ".py",
   "mimetype": "text/x-python",
   "name": "python",
   "nbconvert_exporter": "python",
   "pygments_lexer": "ipython3",
   "version": "3.11.1"
  }
 },
 "nbformat": 4,
 "nbformat_minor": 5
}
