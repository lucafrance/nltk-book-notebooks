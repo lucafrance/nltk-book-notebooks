{
 "cells": [
  {
   "cell_type": "markdown",
   "id": "cb4bdfc6-2d02-4593-9f47-dc61b2bf71b9",
   "metadata": {},
   "source": [
    "Obtain raw texts from two or more genres and compute their respective reading difficulty scores as in the earlier exercise on reading difficulty. E.g. compare ABC Rural News and ABC Science News (`nltk.corpus.abc`). Use Punkt to perform sentence segmentation."
   ]
  },
  {
   "cell_type": "code",
   "execution_count": 1,
   "id": "726275c3-0169-4853-9e51-624fea552133",
   "metadata": {},
   "outputs": [],
   "source": [
    "from statistics import mean\n",
    "import nltk\n",
    "from nltk.corpus import abc"
   ]
  },
  {
   "cell_type": "code",
   "execution_count": 2,
   "id": "c4136c42-3a4c-4fe4-b979-5234b9fa0da0",
   "metadata": {},
   "outputs": [],
   "source": [
    "# Adapted from ch03ex29\n",
    "def ari(words, sents):\n",
    "    average_letters_per_word = mean(len(w) for w in words)\n",
    "    average_words_per_sentence = mean(len(s) for s in sents)\n",
    "    return 4.71 * average_letters_per_word + 0.5 * average_words_per_sentence - 21.43"
   ]
  },
  {
   "cell_type": "code",
   "execution_count": 3,
   "id": "ef5015c1-20ef-485a-8305-51508b5aa85f",
   "metadata": {},
   "outputs": [
    {
     "name": "stdout",
     "output_type": "stream",
     "text": [
      "rural.txt: 68.02\n",
      "science.txt: 68.32\n"
     ]
    }
   ],
   "source": [
    "for genre in nltk.corpus.abc.fileids():\n",
    "    words = abc.words(genre)\n",
    "    sents = nltk.sent_tokenize(abc.raw(genre))\n",
    "    print(f\"{genre}: {ari(words, sents):.4}\")"
   ]
  },
  {
   "cell_type": "code",
   "execution_count": null,
   "id": "f5ca4dca-080d-4e5b-8547-cbd2f3f7f4c3",
   "metadata": {},
   "outputs": [],
   "source": []
  }
 ],
 "metadata": {
  "kernelspec": {
   "display_name": "Python 3 (ipykernel)",
   "language": "python",
   "name": "python3"
  },
  "language_info": {
   "codemirror_mode": {
    "name": "ipython",
    "version": 3
   },
   "file_extension": ".py",
   "mimetype": "text/x-python",
   "name": "python",
   "nbconvert_exporter": "python",
   "pygments_lexer": "ipython3",
   "version": "3.11.1"
  }
 },
 "nbformat": 4,
 "nbformat_minor": 5
}
